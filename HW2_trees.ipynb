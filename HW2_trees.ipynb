{
 "cells": [
  {
   "cell_type": "code",
   "execution_count": 1,
   "metadata": {
    "deletable": false,
    "editable": false,
    "nbgrader": {
     "cell_type": "code",
     "checksum": "5950c5ccef4feb8e1959ae6d60f943f3",
     "grade": false,
     "grade_id": "cell-3c1e3dd57c039e79",
     "locked": true,
     "schema_version": 2,
     "solution": false
    }
   },
   "outputs": [],
   "source": [
    "import numpy as np\n",
    "from nose.tools import assert_almost_equal, assert_almost_equals, assert_equal"
   ]
  },
  {
   "cell_type": "markdown",
   "metadata": {},
   "source": [
    "Ответами на задачи являются функции. Они будут проверены автоматическими тестами на стороне сервера. \n",
    "\n",
    "Некоторые тесты выполняются локально для самопроверки."
   ]
  },
  {
   "cell_type": "markdown",
   "metadata": {
    "deletable": false,
    "editable": false,
    "nbgrader": {
     "cell_type": "markdown",
     "checksum": "309050f12c2cd1e0607de9d9d80587ff",
     "grade": false,
     "grade_id": "cell-52a946809eb3b2b1",
     "locked": true,
     "schema_version": 2,
     "solution": false
    }
   },
   "source": [
    "### Вопросы для самоконтроля \n",
    "Эта часть задания не оценивается, ответы можно не записывать\n",
    "1. Что такое решающее дерево? Как по построенному дереву найти прогноз для объекта?\n",
    "2. Почему для любой выборки можно построить дерево, имеющее нулевую ошибку на ней? Приведите примеры.\n",
    "3. Почему не рекомендуется строить небинарные деревья (имеющие более двух потомков у каждой вершины)?\n",
    "4. Как устроен жадный алгоритм построения дерева?\n",
    "5. Какие критерии информативности для решения задачи классификации вы знаете?\n",
    "6. Какой смысл у критерия Джини и энтропийного критерия?\n",
    "7. Какие критерии информативности для решения задачи регрессии вы знаете?\n",
    "8. Что такое pruning (стрижка) дерева? Чем отличаются post-pruning и pre-pruning?\n",
    "9. Какие методы обработки пропущенных значений вы знаете?\n",
    "10. Как учитывать категориальные признаки в решающем дереве?"
   ]
  },
  {
   "cell_type": "markdown",
   "metadata": {
    "deletable": false,
    "editable": false,
    "nbgrader": {
     "cell_type": "markdown",
     "checksum": "4ae4c084736a496c65278cf3902df594",
     "grade": false,
     "grade_id": "cell-37ec90a597dbcb94",
     "locked": true,
     "schema_version": 2,
     "solution": false
    }
   },
   "source": [
    "### Критерии информативности (45%)\n",
    "\n",
    "Критерий информативности для набора объектов $L$ вычисляется на основе того, насколько хорошо их целевые переменные предсказываются константой (при оптимальном выборе этой константы):\n",
    "$$\n",
    "H(R) = \\min_{c \\in Y} \\dfrac{1}{|R|} \\sum_{(x_i,y_i) \\in R} L(y_i, c),\n",
    "$$\n",
    "$$c = [c_1,\\ldots,c_k], 0 \\leq c_i \\leq 1 \\forall i, \\sum_{k=1}^K c_k = 1,$$\n",
    "где $L(y_i, c)$- некоторая функция потерь. Соответственно, чтобы получить вид критерия при конкретной функции потерь, можно аналитически найти оптимальное значение константы и подставить его в формулу для $H(R)$. \n",
    "\n",
    "\n",
    "Выведите критерии информативности для следующих функций потерь:\n",
    "1. $L(y,c) = (y-c)^2$\n",
    "2. $L(y,c) = \\sum_{k=1}^K (c_k-[y=k])^2$\n",
    "3. $L(y,c) = -\\sum_{k=1}^K [y=k]\\log c_k$"
   ]
  },
  {
   "cell_type": "markdown",
   "metadata": {},
   "source": [
    "1)\n",
    "<br>\n",
    "$$H(R) = \\min_{c \\in Y} \\dfrac{1}{|R|} \\sum_{(x_i,y_i) \\in R} (y_i - c)^2$$\n",
    "<br>Продифференцируем выражение:\n",
    "\n",
    "$$\\dfrac{1}{|R|} \\sum_{(x_i,y_i) \\in R} -2(y_i - c)$$ \n",
    "\n",
    "Чтобы найти минимум, приравниваем его к нулю:\n",
    "\n",
    "$$\\dfrac{1}{|R|} \\sum_{(x_i,y_i) \\in R} -2(y_i - c) = 0$$ \n",
    "\n",
    "<br> Отсюда имеем:\n",
    "\n",
    "$$\\sum_{(x_i,y_i) \\in R} y_i = \\sum_{(x_i,y_i) \\in R} c = c * n$$\n",
    "<br> Значит:\n",
    "$$ c = \\overline y$$\n",
    "<br> Таким образом, имеем:\n",
    "$$\\dfrac{1}{|R|} \\sum_{(x_i,y_i) \\in R} (y_i - \\overline y)^2$$"
   ]
  },
  {
   "cell_type": "markdown",
   "metadata": {},
   "source": [
    "<br>\n",
    "2)\n",
    "<br>\n",
    "$$H(R) = \\min_{c \\in Y} \\dfrac{1}{|R|} \\sum_{(x_i,y_i) \\in R} \\sum_{k=1}^K (c_k-[y=k])^2 $$\n",
    "\n",
    "Можем поменять знаки суммирования местами, тогда получим:\n",
    "\n",
    "$$\\min_{c \\in Y} \\dfrac{1}{|R|} \\sum_{k=1}^K \\sum_{(x_i,y_i) \\in R}  (c_k -[y=k])^2$$ <br>\n",
    "\n",
    "<br> Продифференцируем по каждому $c_k$ и приравняем к нулю: \n",
    "$$\\sum_{(x_i,y_i) \\in R} 2(c_k -[y=k]) = 0$$\n",
    "\n",
    "<br>Значит:\n",
    "\n",
    "$$c_k = \\dfrac{1}{|R|}{\\sum_{(x_i,y_i) \\in R} [y=k]} = p_k$$ \n",
    "\n",
    "<br> Поставляем найденное значение, а затем упрощаем результат:\n",
    "\n",
    "$$H(R) = \\dfrac{1}{|R|} \\sum_{k=1}^K \\sum_{(x_i,y_i) \\in R}  (p_k -[y=k])^2 = \\sum_{k=1}^K p_k (1 - p_k)$$"
   ]
  },
  {
   "cell_type": "markdown",
   "metadata": {},
   "source": [
    "<br>\n",
    "3)\n",
    "<br>\n",
    "$$H(R) = \\min_{c \\in Y} -\\dfrac{1}{|R|} \\sum_{(x_i,y_i) \\in R}\\sum_{k=1}^K [y=k]\\log c_k$$\n",
    "\n",
    "<br> Из условия мы знаем, что:\n",
    "$$\\sum_{k=1}^K c_k = 1,$$\n",
    "\n",
    "<br> Тогда можем записать:\n",
    "\n",
    "$$L(c, \\lambda) =  -\\dfrac{1}{|R|} \\sum_{(x_i,y_i) \\in R}\\sum_{k=1}^K [y=k]\\log c_k + \\lambda \\sum_{k=1}^K c_k$$\n",
    "\n",
    "<br> Теперь дифференцируем и сразу приравниваем к нулю:\n",
    "\n",
    "$$-\\dfrac{1}{|R|} \\sum_{(x_i,y_i) \\in R} \\frac{[y=k]}{c_k} + \\lambda = p_k c_k - \\lambda = 0$$\n",
    "\n",
    "<br>Значит, имеем: \n",
    "\n",
    "$$c_k = \\dfrac{p_k}{\\lambda}$$\n",
    "\n",
    "<br> Однако:\n",
    "\n",
    "$$\\sum_{k=1}^K c_k = \\dfrac{1}{\\lambda} = 1$$\n",
    "\n",
    "Значит, $\\lambda = 1$ и $c_k = p_k$.\n",
    "\n",
    "<br> Подставляем и получаем:\n",
    "\n",
    "$$H(R) = - \\sum_{k=1}^K p_k \\log p_k$$\n"
   ]
  },
  {
   "cell_type": "code",
   "execution_count": 2,
   "metadata": {
    "deletable": false,
    "nbgrader": {
     "cell_type": "code",
     "checksum": "68e6165451b7c2b150eb27d9a99cd0a2",
     "grade": false,
     "grade_id": "cell-31727dddb5db8ea8",
     "locked": false,
     "schema_version": 2,
     "solution": true
    }
   },
   "outputs": [],
   "source": [
    "def H_1(ys):\n",
    "    \"\"\"\n",
    "    ys is a 1-dimentional numpy array containing y values for every object from R.\n",
    "    \"\"\"\n",
    "    c = ys.mean()\n",
    "    H = np.sum((ys-c) ** 2)\n",
    "    H = H/ys.size\n",
    "    return H\n",
    "    \n",
    "    raise NotImplementedError()"
   ]
  },
  {
   "cell_type": "code",
   "execution_count": 3,
   "metadata": {
    "deletable": false,
    "nbgrader": {
     "cell_type": "code",
     "checksum": "783716660fd82d9c4a21fbf1ae1d34b1",
     "grade": false,
     "grade_id": "cell-ea41d739253e63e8",
     "locked": false,
     "schema_version": 2,
     "solution": true
    }
   },
   "outputs": [],
   "source": [
    "def H_2(ys):\n",
    "    \"\"\"\n",
    "    ys is a numpy array with shape (num_items, num_classes).\n",
    "    Where each row is a one-vector of class probabilities (e.g. [0, 0, 1] for object of class 2 from 0, 1, 2).\n",
    "    \"\"\"\n",
    "    \n",
    "    num_items = ys.shape[0]\n",
    "    num_classes = ys.shape[1]\n",
    "    probs = np.zeros(num_classes)\n",
    "    probs = np.sum(ys, axis=0)   #OR 1??\n",
    "    all_res = np.sum(ys)\n",
    "    probs = probs/all_res\n",
    "    H = np.sum(probs * (1-probs))\n",
    "    return H\n",
    "    raise NotImplementedError()"
   ]
  },
  {
   "cell_type": "code",
   "execution_count": 4,
   "metadata": {
    "deletable": false,
    "nbgrader": {
     "cell_type": "code",
     "checksum": "938106de61b249c9e3bea3ebaaba81f1",
     "grade": false,
     "grade_id": "cell-7da8c0dbdaff104d",
     "locked": false,
     "schema_version": 2,
     "solution": true
    }
   },
   "outputs": [],
   "source": [
    "epsilon = 1e-5\n",
    "def H_3(ys):\n",
    "    \"\"\"\n",
    "    ys is a numpy array with shape (num_items, num_classes).\n",
    "    Where each row is a one-vector of class probabilities (e.g. [0, 0, 1] for object of class 2 from 0, 1, 2).\n",
    "    log2 should be used as logarithm. \n",
    "    Do not forget to add epsilon to the probabitlities vector in the logarithm.\n",
    "    \"\"\"\n",
    "    num_items = ys.shape[0]\n",
    "    num_classes = ys.shape[1]\n",
    "    probs = np.zeros(num_classes)\n",
    "    probs = np.sum(ys, axis=0)   #OR 1??\n",
    "    all_res = np.sum(ys)\n",
    "    probs = probs/all_res\n",
    "    log_probs = np.log2(probs + epsilon)\n",
    "    H = - np.sum(probs * log_probs)\n",
    "    return H\n",
    "\n",
    "    raise NotImplementedError()"
   ]
  },
  {
   "cell_type": "code",
   "execution_count": 5,
   "metadata": {
    "deletable": false,
    "editable": false,
    "nbgrader": {
     "cell_type": "code",
     "checksum": "320e05e9cca6e94e39128fd7b7f0abdb",
     "grade": false,
     "grade_id": "cell-c038f70fddf97b50",
     "locked": true,
     "schema_version": 2,
     "solution": false
    }
   },
   "outputs": [],
   "source": [
    "a_r = np.arange(10)\n",
    "b_r = np.ones(10)\n",
    "c_r = np.arange(25)/10."
   ]
  },
  {
   "cell_type": "code",
   "execution_count": 6,
   "metadata": {},
   "outputs": [
    {
     "name": "stdout",
     "output_type": "stream",
     "text": [
      "4.5\n",
      "0.0\n"
     ]
    }
   ],
   "source": [
    "y = np.arange(10)\n",
    "c = y.mean()\n",
    "print (c)\n",
    "H = np.sum(y-c)\n",
    "print(H)\n",
    "H = H/y.size"
   ]
  },
  {
   "cell_type": "code",
   "execution_count": 7,
   "metadata": {
    "deletable": false,
    "editable": false,
    "nbgrader": {
     "cell_type": "code",
     "checksum": "fe9368a33c7676c36f198017861740b4",
     "grade": true,
     "grade_id": "cell-54768e34c617ea33",
     "locked": true,
     "points": 15,
     "schema_version": 2,
     "solution": false
    }
   },
   "outputs": [
    {
     "ename": "NameError",
     "evalue": "name 'criteria_1' is not defined",
     "output_type": "error",
     "traceback": [
      "\u001b[1;31m---------------------------------------------------------------------------\u001b[0m",
      "\u001b[1;31mNameError\u001b[0m                                 Traceback (most recent call last)",
      "\u001b[1;32m<ipython-input-7-b5bd70187d93>\u001b[0m in \u001b[0;36m<module>\u001b[1;34m\u001b[0m\n\u001b[1;32m----> 1\u001b[1;33m \u001b[0massert_equal\u001b[0m\u001b[1;33m(\u001b[0m\u001b[0mcriteria_1\u001b[0m\u001b[1;33m(\u001b[0m\u001b[0ma_r\u001b[0m\u001b[1;33m)\u001b[0m\u001b[1;33m,\u001b[0m \u001b[1;36m8.25\u001b[0m\u001b[1;33m)\u001b[0m\u001b[1;33m\u001b[0m\u001b[1;33m\u001b[0m\u001b[0m\n\u001b[0m\u001b[0;32m      2\u001b[0m \u001b[0massert_equal\u001b[0m\u001b[1;33m(\u001b[0m\u001b[0mcriteria_1\u001b[0m\u001b[1;33m(\u001b[0m\u001b[0mb_r\u001b[0m\u001b[1;33m)\u001b[0m\u001b[1;33m,\u001b[0m \u001b[1;36m0.0\u001b[0m\u001b[1;33m)\u001b[0m\u001b[1;33m\u001b[0m\u001b[1;33m\u001b[0m\u001b[0m\n\u001b[0;32m      3\u001b[0m \u001b[0massert_equal\u001b[0m\u001b[1;33m(\u001b[0m\u001b[0mcriteria_1\u001b[0m\u001b[1;33m(\u001b[0m\u001b[0mc_r\u001b[0m\u001b[1;33m)\u001b[0m\u001b[1;33m,\u001b[0m \u001b[1;36m0.52\u001b[0m\u001b[1;33m)\u001b[0m\u001b[1;33m\u001b[0m\u001b[1;33m\u001b[0m\u001b[0m\n",
      "\u001b[1;31mNameError\u001b[0m: name 'criteria_1' is not defined"
     ]
    }
   ],
   "source": [
    "assert_equal(criteria_1(a_r), 8.25)\n",
    "assert_equal(criteria_1(b_r), 0.0)\n",
    "assert_equal(criteria_1(c_r), 0.52)"
   ]
  },
  {
   "cell_type": "code",
   "execution_count": 9,
   "metadata": {},
   "outputs": [],
   "source": [
    "assert_equal(H_1(a_r), 8.25)\n",
    "assert_equal(H_1(b_r), 0.0)\n",
    "assert_equal(H_1(c_r), 0.52)"
   ]
  },
  {
   "cell_type": "code",
   "execution_count": 10,
   "metadata": {
    "deletable": false,
    "editable": false,
    "nbgrader": {
     "cell_type": "code",
     "checksum": "aff212fb531c7bbe6c257dfc6b69bb6f",
     "grade": false,
     "grade_id": "cell-fb6df7971f2dc48d",
     "locked": true,
     "schema_version": 2,
     "solution": false
    }
   },
   "outputs": [],
   "source": [
    "a = np.vstack((np.ones(10), np.zeros(10))).T\n",
    "b = np.vstack((np.ones(10)/2., np.ones(10)/2.)).T\n",
    "c = np.vstack((np.ones(10)-0.01, np.ones(10)-0.99)).T"
   ]
  },
  {
   "cell_type": "code",
   "execution_count": 11,
   "metadata": {},
   "outputs": [
    {
     "name": "stdout",
     "output_type": "stream",
     "text": [
      "a:\n",
      "[[1. 0.]\n",
      " [1. 0.]\n",
      " [1. 0.]\n",
      " [1. 0.]\n",
      " [1. 0.]\n",
      " [1. 0.]\n",
      " [1. 0.]\n",
      " [1. 0.]\n",
      " [1. 0.]\n",
      " [1. 0.]]\n",
      "b:\n",
      "[[1. 0.]\n",
      " [1. 0.]\n",
      " [1. 0.]\n",
      " [1. 0.]\n",
      " [1. 0.]\n",
      " [0. 1.]\n",
      " [0. 1.]\n",
      " [0. 1.]\n",
      " [0. 1.]\n",
      " [0. 1.]]\n",
      "c:\n",
      "[[1. 0.]\n",
      " [1. 0.]\n",
      " [1. 0.]\n",
      " [1. 0.]\n",
      " [1. 0.]\n",
      " [1. 0.]\n",
      " [1. 0.]\n",
      " [1. 0.]\n",
      " [1. 0.]\n",
      " [0. 1.]]\n"
     ]
    }
   ],
   "source": [
    "a = np.vstack((np.ones(10), np.zeros(10))).T\n",
    "b = np.hstack([np.vstack((np.ones(5), np.zeros(5))), np.vstack((np.zeros(5), np.ones(5)))]).T\n",
    "c = np.hstack([np.vstack((np.ones(9), np.zeros(9))), np.vstack((np.zeros(1), np.ones(1)))]).T\n",
    "print('a:\\n{}\\nb:\\n{}\\nc:\\n{}'.format(a, b, c))"
   ]
  },
  {
   "cell_type": "code",
   "execution_count": 12,
   "metadata": {
    "deletable": false,
    "editable": false,
    "nbgrader": {
     "cell_type": "code",
     "checksum": "637304cd8b612e05c9f2eb88acf020b0",
     "grade": true,
     "grade_id": "cell-21e04aec10cadcc5",
     "locked": true,
     "points": 15,
     "schema_version": 2,
     "solution": false
    }
   },
   "outputs": [
    {
     "ename": "NameError",
     "evalue": "name 'criteria_2' is not defined",
     "output_type": "error",
     "traceback": [
      "\u001b[1;31m---------------------------------------------------------------------------\u001b[0m",
      "\u001b[1;31mNameError\u001b[0m                                 Traceback (most recent call last)",
      "\u001b[1;32m<ipython-input-12-c06d13163ac8>\u001b[0m in \u001b[0;36m<module>\u001b[1;34m\u001b[0m\n\u001b[1;32m----> 1\u001b[1;33m \u001b[0massert_almost_equal\u001b[0m\u001b[1;33m(\u001b[0m\u001b[0mcriteria_2\u001b[0m\u001b[1;33m(\u001b[0m\u001b[0ma\u001b[0m\u001b[1;33m)\u001b[0m\u001b[1;33m,\u001b[0m \u001b[1;36m0.0\u001b[0m\u001b[1;33m,\u001b[0m \u001b[0mplaces\u001b[0m\u001b[1;33m=\u001b[0m\u001b[1;36m4\u001b[0m\u001b[1;33m)\u001b[0m\u001b[1;33m\u001b[0m\u001b[1;33m\u001b[0m\u001b[0m\n\u001b[0m\u001b[0;32m      2\u001b[0m \u001b[0massert_almost_equal\u001b[0m\u001b[1;33m(\u001b[0m\u001b[0mcriteria_2\u001b[0m\u001b[1;33m(\u001b[0m\u001b[0mb\u001b[0m\u001b[1;33m)\u001b[0m\u001b[1;33m,\u001b[0m \u001b[1;36m0.5\u001b[0m\u001b[1;33m,\u001b[0m \u001b[0mplaces\u001b[0m\u001b[1;33m=\u001b[0m\u001b[1;36m4\u001b[0m\u001b[1;33m)\u001b[0m\u001b[1;33m\u001b[0m\u001b[1;33m\u001b[0m\u001b[0m\n\u001b[0;32m      3\u001b[0m \u001b[0massert_almost_equal\u001b[0m\u001b[1;33m(\u001b[0m\u001b[0mcriteria_2\u001b[0m\u001b[1;33m(\u001b[0m\u001b[0mc\u001b[0m\u001b[1;33m)\u001b[0m\u001b[1;33m,\u001b[0m \u001b[1;36m0.0198\u001b[0m\u001b[1;33m,\u001b[0m \u001b[0mplaces\u001b[0m\u001b[1;33m=\u001b[0m\u001b[1;36m4\u001b[0m\u001b[1;33m)\u001b[0m\u001b[1;33m\u001b[0m\u001b[1;33m\u001b[0m\u001b[0m\n",
      "\u001b[1;31mNameError\u001b[0m: name 'criteria_2' is not defined"
     ]
    }
   ],
   "source": [
    "assert_almost_equal(criteria_2(a), 0.0, places=4)\n",
    "assert_almost_equal(criteria_2(b), 0.5, places=4)\n",
    "assert_almost_equal(criteria_2(c), 0.0198, places=4)"
   ]
  },
  {
   "cell_type": "code",
   "execution_count": 13,
   "metadata": {},
   "outputs": [],
   "source": [
    "assert_almost_equal(H_2(a), 0.0, places=4)\n",
    "assert_almost_equal(H_2(b), 0.5, places=4)\n",
    "assert_almost_equal(H_2(c), 0.18, places=4)"
   ]
  },
  {
   "cell_type": "code",
   "execution_count": 14,
   "metadata": {
    "deletable": false,
    "editable": false,
    "nbgrader": {
     "cell_type": "code",
     "checksum": "f4dc4d220ddd43aacf83e8dae41df438",
     "grade": true,
     "grade_id": "cell-3b9909e9a54998a2",
     "locked": true,
     "points": 15,
     "schema_version": 2,
     "solution": false
    }
   },
   "outputs": [
    {
     "ename": "NameError",
     "evalue": "name 'criteria_3' is not defined",
     "output_type": "error",
     "traceback": [
      "\u001b[1;31m---------------------------------------------------------------------------\u001b[0m",
      "\u001b[1;31mNameError\u001b[0m                                 Traceback (most recent call last)",
      "\u001b[1;32m<ipython-input-14-27681999f9bb>\u001b[0m in \u001b[0;36m<module>\u001b[1;34m\u001b[0m\n\u001b[1;32m----> 1\u001b[1;33m \u001b[0massert_almost_equal\u001b[0m\u001b[1;33m(\u001b[0m\u001b[0mcriteria_3\u001b[0m\u001b[1;33m(\u001b[0m\u001b[0ma\u001b[0m\u001b[1;33m)\u001b[0m\u001b[1;33m,\u001b[0m \u001b[1;36m0.0\u001b[0m\u001b[1;33m,\u001b[0m \u001b[0mplaces\u001b[0m\u001b[1;33m=\u001b[0m\u001b[1;36m4\u001b[0m\u001b[1;33m)\u001b[0m\u001b[1;33m\u001b[0m\u001b[1;33m\u001b[0m\u001b[0m\n\u001b[0m\u001b[0;32m      2\u001b[0m \u001b[0massert_almost_equal\u001b[0m\u001b[1;33m(\u001b[0m\u001b[0mcriteria_3\u001b[0m\u001b[1;33m(\u001b[0m\u001b[0mb\u001b[0m\u001b[1;33m)\u001b[0m\u001b[1;33m,\u001b[0m \u001b[1;36m1.0\u001b[0m\u001b[1;33m,\u001b[0m \u001b[0mplaces\u001b[0m\u001b[1;33m=\u001b[0m\u001b[1;36m4\u001b[0m\u001b[1;33m)\u001b[0m\u001b[1;33m\u001b[0m\u001b[1;33m\u001b[0m\u001b[0m\n\u001b[0;32m      3\u001b[0m \u001b[0massert_almost_equal\u001b[0m\u001b[1;33m(\u001b[0m\u001b[0mcriteria_3\u001b[0m\u001b[1;33m(\u001b[0m\u001b[0mc\u001b[0m\u001b[1;33m)\u001b[0m\u001b[1;33m,\u001b[0m \u001b[1;36m0.081\u001b[0m\u001b[1;33m,\u001b[0m \u001b[0mplaces\u001b[0m\u001b[1;33m=\u001b[0m\u001b[1;36m3\u001b[0m\u001b[1;33m)\u001b[0m\u001b[1;33m\u001b[0m\u001b[1;33m\u001b[0m\u001b[0m\n",
      "\u001b[1;31mNameError\u001b[0m: name 'criteria_3' is not defined"
     ]
    }
   ],
   "source": [
    "assert_almost_equal(criteria_3(a), 0.0, places=4)\n",
    "assert_almost_equal(criteria_3(b), 1.0, places=4)\n",
    "assert_almost_equal(criteria_3(c), 0.081, places=3)"
   ]
  },
  {
   "cell_type": "code",
   "execution_count": 15,
   "metadata": {},
   "outputs": [],
   "source": [
    "assert_almost_equal(H_3(a), 0.0, places=4)\n",
    "assert_almost_equal(H_3(b), 1.0, places=4)\n",
    "assert_almost_equal(H_3(c), 0.469, places=3)"
   ]
  },
  {
   "cell_type": "markdown",
   "metadata": {
    "deletable": false,
    "editable": false,
    "nbgrader": {
     "cell_type": "markdown",
     "checksum": "3c6d83feb951cfded5a50f349d9c8970",
     "grade": false,
     "grade_id": "cell-d54229e2d8d0f7d3",
     "locked": true,
     "schema_version": 2,
     "solution": false
    }
   },
   "source": [
    "### Сложность дерева (15%)\n",
    "\n",
    "Запишите оценку сложности построения одного решающего дерева в зависимости от размера обучающей выборки $l$, числа признаков $d$, максимальной глубины дерева $D$. В качестве предикатов используются пороговые функции $[x_j>t]$. При выборе предиката в каждой вершине перебираются все признаки, а в качестве порогов рассматриваются величины $t$, равные значениям этого признака на объектах, попавших в текущую вершину. Считайте сложность вычисления критерия информативности на подвыборке константной (т.е. $O(1)$).\n",
    "\n",
    "Оценку сложности представьте в формате $O($ `get_tree_complexity(D, l, d)`$)$, где `get_tree_complexity` - некоторая функция от $D$, $l$ и $d$. Функцию реализуйте ниже. "
   ]
  },
  {
   "cell_type": "markdown",
   "metadata": {},
   "source": [
    "* Рассмотрим какую-нибудь одну вершину. В ней нам надо проверить каждый из $d$ признаков для объектов из $R$ с $O(|R|)$ различными значениями. Итого, у нас сложность в одной вершине $O(d \\cdot |R|)$\n",
    "\n",
    "* Рассмотрим какой-нибудь один уровень. Всего на нем мы рассматриваем $l$ объектов, так что сложность на этом уровне (глубине) с учетом сложности в одной вершине будет $O(d \\cdot l)$\n",
    "\n",
    "* Рассмотрим теперь все дерево. В нем глубина ограничена $D$, поэтому с учетом предыдущего пункта можем записать, что сложность дерева: $O(d \\cdot l \\cdot D)$"
   ]
  },
  {
   "cell_type": "code",
   "execution_count": 16,
   "metadata": {
    "deletable": false,
    "nbgrader": {
     "cell_type": "code",
     "checksum": "033d4a2927cf5e1e417bb41aaaf2019c",
     "grade": false,
     "grade_id": "cell-308d0bc0552dc640",
     "locked": false,
     "schema_version": 2,
     "solution": true
    }
   },
   "outputs": [],
   "source": [
    "def get_tree_complexity(D, l, d):\n",
    "    \"\"\"\n",
    "    Compute tree complexity in form O(some_expression) and return the expression\n",
    "    \"\"\"\n",
    "    compl = D * l * d\n",
    "    return compl\n",
    "    raise NotImplementedError()"
   ]
  },
  {
   "cell_type": "code",
   "execution_count": null,
   "metadata": {
    "deletable": false,
    "editable": false,
    "nbgrader": {
     "cell_type": "code",
     "checksum": "71024f2469e61cea05652f325011ad57",
     "grade": true,
     "grade_id": "cell-c1d94a3f25246434",
     "locked": true,
     "points": 15,
     "schema_version": 2,
     "solution": false
    }
   },
   "outputs": [],
   "source": [
    "#This cell is executed on the server side.\n"
   ]
  },
  {
   "cell_type": "markdown",
   "metadata": {
    "deletable": false,
    "editable": false,
    "nbgrader": {
     "cell_type": "markdown",
     "checksum": "6eb9e5977fd92ff94a956819cdca9a3a",
     "grade": false,
     "grade_id": "cell-22395f2766a94a5f",
     "locked": true,
     "schema_version": 2,
     "solution": false
    }
   },
   "source": [
    "### Bootstrap (40%)\n",
    "\n",
    "В данной задаче необходимо вычислить вероятность попадания объекта в boostrap-выборку, а затем оценить ее численно.\n",
    "\n",
    "\n",
    "Пусть выборка $\\hat{X}^{n}$ размера $n$ сгененирована методом bootstrap на основе выборки $X^{n}={\\boldsymbol{x}{1},\\dots\\boldsymbol{x}{n}}$. Найдите вероятность попадания объекта $x_{i}$ в выборку $\\hat{X}^{n}$ и вычислите ее для случая $n\\rightarrow\\infty$. Реализуйте функцию `probability_to_get_into_X_b`, которая возвращает эту вероятность как число от `0` до `1`. В качесте экспоненты можете использовать `math.exp(1)`."
   ]
  },
  {
   "cell_type": "markdown",
   "metadata": {},
   "source": [
    "Вероятность того, что на каком-то фиксированном месте стоит **не** данный объект равна $1 - \\frac{1}{n}$,  у нас $n$ мест, так что вероятность того, что на всех местах стоят объекты, несовпадающие с данным, равна $(1 - \\frac{1}{n})^n$. Значит, нужная нам вероятность (что хотя бы на одной позиции стоит нужный объект) составляет $1 - (1 - \\frac{1}{n})^n$. Исходя из знаний мат. анализа можем сказать, что это равно при страмлении $n\\rightarrow\\infty$: $1 - (1 - \\frac{1}{n})^n \\rightarrow 1 - e^{-1}$"
   ]
  },
  {
   "cell_type": "code",
   "execution_count": 3,
   "metadata": {
    "deletable": false,
    "nbgrader": {
     "cell_type": "code",
     "checksum": "ebe08149029002ed66e48c0a346fd78c",
     "grade": false,
     "grade_id": "cell-7eb9bac07b24f610",
     "locked": false,
     "schema_version": 2,
     "solution": true
    }
   },
   "outputs": [],
   "source": [
    "def probability_to_get_into_X_b():\n",
    "    import math\n",
    "    prob = 1 - 1/math.exp(1)\n",
    "    return prob\n",
    "    raise NotImplementedError()"
   ]
  },
  {
   "cell_type": "code",
   "execution_count": 18,
   "metadata": {
    "deletable": false,
    "editable": false,
    "nbgrader": {
     "cell_type": "code",
     "checksum": "45d75ad82ef5d0a9703fbbdf0a1de6ac",
     "grade": true,
     "grade_id": "cell-af82cb6ae582ba18",
     "locked": true,
     "points": 15,
     "schema_version": 2,
     "solution": false
    }
   },
   "outputs": [],
   "source": [
    "assert_almost_equal(probability_to_get_into_X_b(), 0.6, places=1)"
   ]
  },
  {
   "cell_type": "markdown",
   "metadata": {
    "deletable": false,
    "editable": false,
    "nbgrader": {
     "cell_type": "markdown",
     "checksum": "71fe260215fc5b96418a491f139fdcdd",
     "grade": false,
     "grade_id": "cell-ef57536fae6e40cf",
     "locked": true,
     "schema_version": 2,
     "solution": false
    }
   },
   "source": [
    "Реализуйте свою функцию, генерирующую bootstrap-выборку из исходной."
   ]
  },
  {
   "cell_type": "code",
   "execution_count": 19,
   "metadata": {
    "deletable": false,
    "nbgrader": {
     "cell_type": "code",
     "checksum": "2fdb45bec0423f0b3b768f58339f389a",
     "grade": false,
     "grade_id": "cell-ca47d09d4086906c",
     "locked": false,
     "schema_version": 2,
     "solution": true
    }
   },
   "outputs": [],
   "source": [
    "def my_bootstrap(X):\n",
    "    \"\"\"\n",
    "    Implement the function that returns the \n",
    "    bootstraped dataset of the same size the\n",
    "    original dataset was.\n",
    "    \"\"\"\n",
    "    from sklearn.utils import resample\n",
    "    \n",
    "    #Y = resample(X)\n",
    "    Y = np.zeros(X.size)\n",
    "    for i in range(Y.size):\n",
    "        Y[i] = np.random.choice(X)\n",
    "    \n",
    "    return Y\n",
    "    raise NotImplementedError()"
   ]
  },
  {
   "cell_type": "markdown",
   "metadata": {
    "deletable": false,
    "editable": false,
    "nbgrader": {
     "cell_type": "markdown",
     "checksum": "3e1f6fad2074ed2523031898e3b906b5",
     "grade": false,
     "grade_id": "cell-7001d405cc4dd4fe",
     "locked": true,
     "schema_version": 2,
     "solution": false
    }
   },
   "source": [
    "Численно оцените вероятность попадания объекта исходной выборки в bootstrap-выборку для размера выборки `N`. Функция `get_sample_probas` должна возвращать число от `0` до `1`. \n",
    "\n",
    "Не забывайте, что мы живем в случайном мире ;)"
   ]
  },
  {
   "cell_type": "code",
   "execution_count": 20,
   "metadata": {
    "deletable": false,
    "nbgrader": {
     "cell_type": "code",
     "checksum": "b83d153f7ba126e22261b85299aec9ea",
     "grade": false,
     "grade_id": "cell-2130b11bcc59a562",
     "locked": false,
     "schema_version": 2,
     "solution": true
    }
   },
   "outputs": [],
   "source": [
    "def get_sample_proba(N):\n",
    "    from scipy.stats import uniform\n",
    "    X = uniform.rvs(size = N)\n",
    "    Y = my_bootstrap(X)\n",
    "    num_goods = 0\n",
    "    for i in range(N):\n",
    "        if X[i] in Y:\n",
    "            num_goods += 1\n",
    "    sample_proba = num_goods/N\n",
    "    return sample_proba\n",
    "    raise NotImplementedError()"
   ]
  },
  {
   "cell_type": "code",
   "execution_count": 21,
   "metadata": {},
   "outputs": [
    {
     "data": {
      "text/plain": [
       "0.63163"
      ]
     },
     "execution_count": 21,
     "metadata": {},
     "output_type": "execute_result"
    }
   ],
   "source": [
    "get_sample_proba(100000)"
   ]
  },
  {
   "cell_type": "code",
   "execution_count": 22,
   "metadata": {},
   "outputs": [
    {
     "data": {
      "text/plain": [
       "0.631375"
      ]
     },
     "execution_count": 22,
     "metadata": {},
     "output_type": "execute_result"
    }
   ],
   "source": [
    "get_sample_proba(400000)"
   ]
  },
  {
   "cell_type": "code",
   "execution_count": null,
   "metadata": {
    "deletable": false,
    "editable": false,
    "nbgrader": {
     "cell_type": "code",
     "checksum": "92160f85f5980fdfef211461b96bc1e0",
     "grade": true,
     "grade_id": "cell-b68c7adb5c5e5a86",
     "locked": true,
     "points": 25,
     "schema_version": 2,
     "solution": false
    }
   },
   "outputs": [],
   "source": [
    "#This cell is executed on the server side.\n"
   ]
  },
  {
   "cell_type": "markdown",
   "metadata": {
    "deletable": false,
    "editable": false,
    "nbgrader": {
     "cell_type": "markdown",
     "checksum": "f5d7187d52e3cb85e7a842b3356a731f",
     "grade": false,
     "grade_id": "cell-83e743783a39e10a",
     "locked": true,
     "schema_version": 2,
     "solution": false
    }
   },
   "source": [
    "Поздравляем, задание завершено. Не забудьте остановить свой виртуальный инстанс перед уходом (Control Panel -> Stop My Server)."
   ]
  }
 ],
 "metadata": {
  "kernelspec": {
   "display_name": "Python 3",
   "language": "python",
   "name": "python3"
  },
  "language_info": {
   "codemirror_mode": {
    "name": "ipython",
    "version": 3
   },
   "file_extension": ".py",
   "mimetype": "text/x-python",
   "name": "python",
   "nbconvert_exporter": "python",
   "pygments_lexer": "ipython3",
   "version": "3.7.1"
  },
  "toc": {
   "base_numbering": 1,
   "nav_menu": {},
   "number_sections": true,
   "sideBar": true,
   "skip_h1_title": false,
   "title_cell": "Table of Contents",
   "title_sidebar": "Contents",
   "toc_cell": false,
   "toc_position": {},
   "toc_section_display": true,
   "toc_window_display": false
  }
 },
 "nbformat": 4,
 "nbformat_minor": 2
}
