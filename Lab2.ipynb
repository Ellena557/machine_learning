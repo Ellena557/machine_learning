{
 "cells": [
  {
   "cell_type": "markdown",
   "metadata": {},
   "source": [
    "## Lab 2. Simple text processing and gradient boosting.\n",
    "This lab assigments consists of two parts:\n",
    "\n",
    "1. Simple text classification using Bag of Words and TF-IDF.\n",
    "2. Human activity classification using gradient boosting.\n",
    "\n",
    "These tasks are independent.\n",
    "\n",
    "_We recommend to keep the datasets on your computer because they will be used in Lab 3 as well._\n",
    "\n",
    "Deadline: May 5th, 23:59"
   ]
  },
  {
   "cell_type": "code",
   "execution_count": 1,
   "metadata": {},
   "outputs": [],
   "source": [
    "import numpy as np\n",
    "import matplotlib.pyplot as plt\n",
    "%matplotlib inline"
   ]
  },
  {
   "cell_type": "markdown",
   "metadata": {},
   "source": [
    "### Part I: Prohibited Comment Classification (2 points)\n",
    "This part of assigment is fully based on YSDA NLP_course homework. Special thanks to YSDA team for making it available on github.\n",
    "\n",
    "![img](https://github.com/yandexdataschool/nlp_course/raw/master/resources/banhammer.jpg)\n",
    "\n",
    "__In this part__ you will build an algorithm that classifies social media comments into normal or toxic.\n",
    "Like in many real-world cases, you only have a small (10^3) dataset of hand-labeled examples to work with. We'll tackle this problem using both classical nlp methods and embedding-based approach."
   ]
  },
  {
   "cell_type": "code",
   "execution_count": 72,
   "metadata": {},
   "outputs": [
    {
     "data": {
      "text/html": [
       "<div>\n",
       "<style scoped>\n",
       "    .dataframe tbody tr th:only-of-type {\n",
       "        vertical-align: middle;\n",
       "    }\n",
       "\n",
       "    .dataframe tbody tr th {\n",
       "        vertical-align: top;\n",
       "    }\n",
       "\n",
       "    .dataframe thead th {\n",
       "        text-align: right;\n",
       "    }\n",
       "</style>\n",
       "<table border=\"1\" class=\"dataframe\">\n",
       "  <thead>\n",
       "    <tr style=\"text-align: right;\">\n",
       "      <th></th>\n",
       "      <th>should_ban</th>\n",
       "      <th>comment_text</th>\n",
       "    </tr>\n",
       "  </thead>\n",
       "  <tbody>\n",
       "    <tr>\n",
       "      <th>50</th>\n",
       "      <td>0</td>\n",
       "      <td>\"Those who're in advantageous positions are th...</td>\n",
       "    </tr>\n",
       "    <tr>\n",
       "      <th>250</th>\n",
       "      <td>1</td>\n",
       "      <td>Fartsalot56 says f**k you motherclucker!!</td>\n",
       "    </tr>\n",
       "    <tr>\n",
       "      <th>450</th>\n",
       "      <td>1</td>\n",
       "      <td>Are you a fool? \\r\\n\\r\\nI am sorry, but you se...</td>\n",
       "    </tr>\n",
       "    <tr>\n",
       "      <th>650</th>\n",
       "      <td>1</td>\n",
       "      <td>I AM NOT A VANDAL!!!!!!!!!!!!!!!!!!!!!!!!!!!!!!</td>\n",
       "    </tr>\n",
       "    <tr>\n",
       "      <th>850</th>\n",
       "      <td>0</td>\n",
       "      <td>Citing sources\\r\\n\\r\\nCheck out the Wikipedia:...</td>\n",
       "    </tr>\n",
       "  </tbody>\n",
       "</table>\n",
       "</div>"
      ],
      "text/plain": [
       "     should_ban                                       comment_text\n",
       "50            0  \"Those who're in advantageous positions are th...\n",
       "250           1          Fartsalot56 says f**k you motherclucker!!\n",
       "450           1  Are you a fool? \\r\\n\\r\\nI am sorry, but you se...\n",
       "650           1    I AM NOT A VANDAL!!!!!!!!!!!!!!!!!!!!!!!!!!!!!!\n",
       "850           0  Citing sources\\r\\n\\r\\nCheck out the Wikipedia:..."
      ]
     },
     "execution_count": 72,
     "metadata": {},
     "output_type": "execute_result"
    }
   ],
   "source": [
    "import pandas as pd\n",
    "data = pd.read_csv(\"comments.tsv\", sep='\\t')\n",
    "\n",
    "texts = data['comment_text'].values\n",
    "target = data['should_ban'].values\n",
    "data[50::200]"
   ]
  },
  {
   "cell_type": "code",
   "execution_count": 73,
   "metadata": {},
   "outputs": [],
   "source": [
    "from sklearn.model_selection import train_test_split\n",
    "texts_train, texts_test, y_train, y_test = train_test_split(texts, target, test_size=0.5, random_state=42)"
   ]
  },
  {
   "cell_type": "markdown",
   "metadata": {},
   "source": [
    "__Note:__ it is generally a good idea to split data into train/test before anything is done to them.\n",
    "\n",
    "It guards you against possible data leakage in the preprocessing stage. For example, should you decide to select words present in obscene tweets as features, you should only count those words over the training set. Otherwise your algoritm can cheat evaluation."
   ]
  },
  {
   "cell_type": "markdown",
   "metadata": {},
   "source": [
    "### Preprocessing and tokenization\n",
    "\n",
    "Comments contain raw text with punctuation, upper/lowercase letters and even newline symbols.\n",
    "\n",
    "To simplify all further steps, we'll split text into space-separated tokens using one of nltk tokenizers.\n",
    "\n",
    "Generally, library `nltk` [link](https://www.nltk.org) is widely used in NLP. It is not necessary in here, but mentioned to intoduce it to you."
   ]
  },
  {
   "cell_type": "code",
   "execution_count": 74,
   "metadata": {},
   "outputs": [
    {
     "name": "stdout",
     "output_type": "stream",
     "text": [
      "before: How to be a grown-up at work: replace \"I don't want to do that\" with \"Ok, great!\".\n",
      "after: how to be a grown-up at work : replace \" i don't want to do that \" with \" ok , great ! \" .\n"
     ]
    }
   ],
   "source": [
    "from nltk.tokenize import TweetTokenizer\n",
    "tokenizer = TweetTokenizer()\n",
    "preprocess = lambda text: ' '.join(tokenizer.tokenize(text.lower()))\n",
    "\n",
    "text = 'How to be a grown-up at work: replace \"I don\\'t want to do that\" with \"Ok, great!\".'\n",
    "print(\"before:\", text,)\n",
    "print(\"after:\", preprocess(text),)"
   ]
  },
  {
   "cell_type": "code",
   "execution_count": 75,
   "metadata": {},
   "outputs": [],
   "source": [
    "# task: preprocess each comment in train and test\n",
    "\n",
    "for i in range (texts_train.size):\n",
    "    texts_train[i] = preprocess(texts_train[i])\n",
    "    \n",
    "for i in range (texts_train.size):\n",
    "    texts_test[i] = preprocess(texts_test[i])"
   ]
  },
  {
   "cell_type": "code",
   "execution_count": 76,
   "metadata": {},
   "outputs": [],
   "source": [
    "# Small check that everything is done properly\n",
    "assert texts_train[5] ==  'who cares anymore . they attack with impunity .'\n",
    "assert texts_test[89] == 'hey todds ! quick q ? why are you so gay'\n",
    "assert len(texts_test) == len(y_test)"
   ]
  },
  {
   "cell_type": "markdown",
   "metadata": {},
   "source": [
    "### Solving it: bag of words\n",
    "\n",
    "![img](http://www.novuslight.com/uploads/n/BagofWords.jpg)\n",
    "\n",
    "One traditional approach to such problem is to use bag of words features:\n",
    "1. build a vocabulary of frequent words (use train data only)\n",
    "2. for each training sample, count the number of times a word occurs in it (for each word in vocabulary).\n",
    "3. consider this count a feature for some classifier\n",
    "\n",
    "__Note:__ in practice, you can compute such features using sklearn. __Please don't do that in the current assignment, though.__\n",
    "* `from sklearn.feature_extraction.text import CountVectorizer, TfidfVectorizer`"
   ]
  },
  {
   "cell_type": "code",
   "execution_count": 91,
   "metadata": {},
   "outputs": [
    {
     "name": "stdout",
     "output_type": "stream",
     "text": [
      "example features: ['!', '12:20', '300', '_', 'adorned', 'alternative', 'archive', 'average', 'benkner', 'bout', 'came', 'chest', 'combined', 'consumers', 'cricket', 'decisions', 'dickheads', 'domestic', 'eductaion', 'essentially', 'faggot', 'firms', 'frustrated', 'goal', 'hanibal', 'hip-hop', 'identified', 'infoboxes', 'issue', 'kindergarten', 'lets', 'lot', \"mclaren's\", 'moderator', 'naturally', 'noticeable', 'opposing', 'pdf', 'plant', 'pretoria', 'punctuation', 'rebels', 'repetative', 'riadh', 'schulz', 'shes', 'slit', 'spoof', 'stupid', 't', 'theoretical', 'topic', 'uglyness', 'userspace', 'wanted', 'wikieditor', 'year', 'ீ']\n"
     ]
    }
   ],
   "source": [
    "# task: find up to k most frequent tokens in texts_train,\n",
    "# sort them by number of occurences (highest first)\n",
    "\n",
    "k = min(10000, len(set(' '.join(texts_train).split())))\n",
    "\n",
    "words = []\n",
    "\n",
    "for i in range (texts_train.size):\n",
    "    s = texts_train[i].split()\n",
    "    for j in range (len(s)):\n",
    "        words.append(s[j])\n",
    "\n",
    "words = np.array(words)  \n",
    "\n",
    "unique_words, word_counts = np.unique(words, return_counts = True)\n",
    "\n",
    "number_of_classes = len(np.unique(words))\n",
    "unique_words = np.array(unique_words)\n",
    "sorted_unique_words = unique_words[np.argsort(word_counts)]\n",
    "\n",
    "# рассматриваем k самых популярных слов (были в конце), и переворачиваем (боле частые теперь в начале)\n",
    "bow_vocabulary = list(sorted_unique_words[-k:])[::-1]\n",
    "\n",
    "print('example features:', sorted(bow_vocabulary)[::100])"
   ]
  },
  {
   "cell_type": "markdown",
   "metadata": {},
   "source": [
    "Сопоставим уникальным словам уникальные коды."
   ]
  },
  {
   "cell_type": "code",
   "execution_count": 92,
   "metadata": {},
   "outputs": [],
   "source": [
    "bow_vocab_dict = {}\n",
    "\n",
    "for i in range(len(bow_vocabulary)):\n",
    "    element = {bow_vocabulary[i] : i}\n",
    "    bow_vocab_dict.update(element)"
   ]
  },
  {
   "cell_type": "code",
   "execution_count": 93,
   "metadata": {},
   "outputs": [],
   "source": [
    "def text_to_bow(text):\n",
    "    \"\"\" convert text string to an array of token counts. Use bow_vocabulary. \"\"\"\n",
    "    \n",
    "    token_counts = np.zeros(len(bow_vocabulary))\n",
    "    text_words = text.split()\n",
    "    \n",
    "    for i in range (len(text_words)):\n",
    "        if (text_words[i] in bow_vocab_dict.keys()):\n",
    "            word_index = bow_vocab_dict[text_words[i]]\n",
    "            token_counts[word_index] += 1\n",
    "\n",
    "    return np.array(token_counts, 'float32')"
   ]
  },
  {
   "cell_type": "code",
   "execution_count": 94,
   "metadata": {},
   "outputs": [],
   "source": [
    "X_train_bow = np.stack(list(map(text_to_bow, texts_train)))\n",
    "X_test_bow = np.stack(list(map(text_to_bow, texts_test)))"
   ]
  },
  {
   "cell_type": "code",
   "execution_count": 95,
   "metadata": {},
   "outputs": [],
   "source": [
    "# Small check that everything is done properly\n",
    "k_max = len(set(' '.join(texts_train).split()))\n",
    "assert X_train_bow.shape == (len(texts_train), min(k, k_max))\n",
    "assert X_test_bow.shape == (len(texts_test), min(k, k_max))\n",
    "assert np.all(X_train_bow[5:10].sum(-1) == np.array([len(s.split()) for s in  texts_train[5:10]]))\n",
    "assert len(bow_vocabulary) <= min(k, k_max)\n",
    "assert X_train_bow[6, bow_vocabulary.index('.')] == texts_train[6].split().count('.')"
   ]
  },
  {
   "cell_type": "markdown",
   "metadata": {},
   "source": [
    "Machine learning stuff: fit, predict, evaluate. You know the drill."
   ]
  },
  {
   "cell_type": "code",
   "execution_count": 96,
   "metadata": {},
   "outputs": [],
   "source": [
    "from sklearn.linear_model import LogisticRegression\n",
    "bow_model = LogisticRegression(solver = 'lbfgs').fit(X_train_bow, y_train)"
   ]
  },
  {
   "cell_type": "code",
   "execution_count": 97,
   "metadata": {},
   "outputs": [
    {
     "data": {
      "image/png": "[encoded data removed]",
      "text/plain": [
       "<Figure size 432x288 with 1 Axes>"
      ]
     },
     "metadata": {},
     "output_type": "display_data"
    }
   ],
   "source": [
    "from sklearn.metrics import roc_auc_score, roc_curve\n",
    "\n",
    "for name, X, y, model in [\n",
    "    ('train', X_train_bow, y_train, bow_model),\n",
    "    ('test ', X_test_bow, y_test, bow_model)\n",
    "]:\n",
    "    proba = model.predict_proba(X)[:, 1]\n",
    "    auc = roc_auc_score(y, proba)\n",
    "    plt.plot(*roc_curve(y, proba)[:2], label='%s AUC=%.4f' % (name, auc))\n",
    "\n",
    "plt.plot([0, 1], [0, 1], '--', color='black',)\n",
    "plt.legend(fontsize='large')\n",
    "plt.grid()"
   ]
  },
  {
   "cell_type": "markdown",
   "metadata": {},
   "source": [
    "Try to vary the number of tokens `k` and check how the model performance changes. Show it on a plot."
   ]
  },
  {
   "cell_type": "markdown",
   "metadata": {},
   "source": [
    "Функция, котоаря находит $k$ наиболее часто встречающихся:"
   ]
  },
  {
   "cell_type": "code",
   "execution_count": 98,
   "metadata": {},
   "outputs": [],
   "source": [
    "def popular_words(k):\n",
    "    k_bow_vocabulary = list(sorted_unique_words)\n",
    "    l = len(k_bow_vocabulary)\n",
    "    k_bow_vocabulary = k_bow_vocabulary[int(l-k):int(l)]\n",
    "    return k_bow_vocabulary"
   ]
  },
  {
   "cell_type": "markdown",
   "metadata": {},
   "source": [
    "Сопоставляем уникальным значениям уникальные коды:"
   ]
  },
  {
   "cell_type": "code",
   "execution_count": 99,
   "metadata": {},
   "outputs": [],
   "source": [
    "def get_k_bow_vocab_dict(k):\n",
    "    k_bow_vocab_dict = {}\n",
    "    k_bow_vocabulary = popular_words(k)\n",
    "    \n",
    "    for i in range(len(k_bow_vocabulary)):\n",
    "        element = {k_bow_vocabulary[i] : i}\n",
    "        k_bow_vocab_dict.update(element)\n",
    "    \n",
    "    return k_bow_vocab_dict"
   ]
  },
  {
   "cell_type": "markdown",
   "metadata": {},
   "source": [
    "Функция, аналогичная той, что была в первой части:"
   ]
  },
  {
   "cell_type": "code",
   "execution_count": 100,
   "metadata": {},
   "outputs": [],
   "source": [
    "def k_text_to_bow(text, k):\n",
    "    \"\"\" convert text string to an array of token counts.\"\"\"\n",
    "\n",
    "    k_bow_vocabulary = popular_words(k)\n",
    "    token_counts = np.zeros(len(k_bow_vocabulary))\n",
    "    text_words = text.split()\n",
    "    \n",
    "    k_bow_vocab_dict = get_k_bow_vocab_dict(k)\n",
    "    \n",
    "    for i in range (len(text_words)):\n",
    "        if (text_words[i] in k_bow_vocab_dict.keys()):\n",
    "            \n",
    "            word_index = k_bow_vocab_dict[text_words[i]]\n",
    "            token_counts[word_index] += 1\n",
    "\n",
    "    return np.array(token_counts, 'float32')"
   ]
  },
  {
   "cell_type": "markdown",
   "metadata": {},
   "source": [
    "Теперь меняем значения $k$ и смотрим на результат:"
   ]
  },
  {
   "cell_type": "code",
   "execution_count": 101,
   "metadata": {},
   "outputs": [
    {
     "name": "stdout",
     "output_type": "stream",
     "text": [
      "400  tokens :  0.8102640853570221\n",
      "800  tokens :  0.8241201178004152\n",
      "1200  tokens :  0.8315872479441253\n",
      "1600  tokens :  0.8314906902267497\n",
      "2000  tokens :  0.8310400875456637\n",
      "2400  tokens :  0.8324240814947135\n",
      "2800  tokens :  0.8328264053171116\n",
      "3200  tokens :  0.8332287291395098\n",
      "3600  tokens :  0.8334057516213651\n",
      "4000  tokens :  0.8348058385233106\n",
      "4400  tokens :  0.8338161219202114\n",
      "4800  tokens :  0.8359564846553694\n",
      "5200  tokens :  0.8358116480793061\n",
      "5600  tokens :  0.8352966735866363\n"
     ]
    }
   ],
   "source": [
    "token_numbers = np.arange(100, 5800, 100)\n",
    "auc_results = np.zeros(len(token_numbers))\n",
    "auc_results = []\n",
    "\n",
    "for k in token_numbers:\n",
    "    k_nums = np.ones(texts_train.shape[0]) * k\n",
    "    X_train_bow_k = np.stack(list(map(k_text_to_bow, texts_train, k_nums)))\n",
    "    X_test_bow_k = np.stack(list(map(k_text_to_bow, texts_test, k_nums)))\n",
    "    k_bow_model = LogisticRegression(solver = 'lbfgs', max_iter = 10000).fit(X_train_bow_k, y_train)\n",
    "    proba = k_bow_model.predict_proba(X_test_bow_k)[:, 1]\n",
    "    auc = roc_auc_score(y, proba)\n",
    "    auc_results.append(auc)\n",
    "    \n",
    "    #выведем значения для некоторых k, чтобы оценить результат\n",
    "    if (k % 400 == 0):\n",
    "        print(k, \" tokens : \", auc)"
   ]
  },
  {
   "cell_type": "markdown",
   "metadata": {},
   "source": [
    "Нарисуем график:"
   ]
  },
  {
   "cell_type": "code",
   "execution_count": 102,
   "metadata": {},
   "outputs": [],
   "source": [
    "import seaborn as sns\n",
    "\n",
    "sns.set(context = 'paper', style='whitegrid', palette='deep', font='sans-serif', font_scale=1.5,\n",
    " color_codes=False, rc=None)"
   ]
  },
  {
   "cell_type": "code",
   "execution_count": 103,
   "metadata": {},
   "outputs": [
    {
     "data": {
      "image/png": "[encoded data removed]",
      "text/plain": [
       "<Figure size 1008x432 with 1 Axes>"
      ]
     },
     "metadata": {},
     "output_type": "display_data"
    }
   ],
   "source": [
    "plt.figure(figsize=(14, 6))\n",
    "\n",
    "plt.plot(token_numbers, auc_results, color='coral', lw=2)\n",
    "    \n",
    "plt.xlim([0, 5700])\n",
    "plt.xlabel('token number', fontsize = 16)\n",
    "plt.ylabel('AUC', fontsize = 16)\n",
    "plt.title('Dependence of AUC on the token number', fontsize = 18)\n",
    "plt.show()"
   ]
  },
  {
   "cell_type": "markdown",
   "metadata": {},
   "source": [
    "#### Task: implement TF-IDF features\n",
    "\n",
    "Not all words are equally useful. One can prioritize rare words and downscale words like \"and\"/\"or\" by using __tf-idf features__. This abbreviation stands for __text frequency/inverse document frequence__ and means exactly that:\n",
    "\n",
    "$$ feature_i = { Count(word_i \\in x) \\times { log {N \\over Count(word_i \\in D) + \\alpha} }}, $$\n",
    "\n",
    "\n",
    "where x is a single text, D is your dataset (a collection of texts), N is a total number of documents and $\\alpha$ is a smoothing hyperparameter (typically 1). \n",
    "And $Count(word_i \\in D)$ is the number of documents where $word_i$ appears.\n",
    "\n",
    "It may also be a good idea to normalize each data sample after computing tf-idf features.\n",
    "\n",
    "__Your task:__ implement tf-idf features, train a model and evaluate ROC curve. Compare it with basic BagOfWords model from above.\n",
    "\n",
    "__Please don't use sklearn/nltk builtin tf-idf vectorizers in your solution :)__ You can still use 'em for debugging though."
   ]
  },
  {
   "cell_type": "markdown",
   "metadata": {},
   "source": [
    "Blog post about implementing the TF-IDF features from scratch: https://triton.ml/blog/tf-idf-from-scratch"
   ]
  },
  {
   "cell_type": "code",
   "execution_count": 104,
   "metadata": {},
   "outputs": [],
   "source": [
    "# Your beautiful code here"
   ]
  },
  {
   "cell_type": "markdown",
   "metadata": {},
   "source": [
    "Считаем, сколько раз каждое уникальное слово встретилось во всех документах:"
   ]
  },
  {
   "cell_type": "code",
   "execution_count": 117,
   "metadata": {},
   "outputs": [],
   "source": [
    "#number of each word in all the documents\n",
    "words_counts = np.zeros((len(bow_vocabulary)))\n",
    "\n",
    "for i in range(texts_train.shape[0]):\n",
    "    \n",
    "    text_words = np.unique(texts_train[i].split())\n",
    "    \n",
    "    for j in range (len(text_words)):\n",
    "        word_index = bow_vocab_dict[text_words[j]]\n",
    "        words_counts[word_index] += 1"
   ]
  },
  {
   "cell_type": "markdown",
   "metadata": {},
   "source": [
    "Применяем формулу, написанную выше:"
   ]
  },
  {
   "cell_type": "code",
   "execution_count": 118,
   "metadata": {},
   "outputs": [],
   "source": [
    "alpha = 1\n",
    "N = texts_train.shape[0]\n",
    "\n",
    "def text_to_tfidf(text):\n",
    "    \"\"\" convert text string to tfidf form \"\"\"\n",
    "    \n",
    "    text_words = text.split()\n",
    "    words_in_text = text_to_bow(text)\n",
    "    \n",
    "    text_tfidf = (words_in_text / len(text_words)) * np.log(N / (alpha + words_counts))\n",
    "\n",
    "    return np.array(text_tfidf, 'float32')"
   ]
  },
  {
   "cell_type": "code",
   "execution_count": 119,
   "metadata": {},
   "outputs": [],
   "source": [
    "X_train_tfidf = np.stack(list(map(text_to_tfidf, texts_train)))\n",
    "X_test_tfidf = np.stack(list(map(text_to_tfidf, texts_test)))"
   ]
  },
  {
   "cell_type": "code",
   "execution_count": 120,
   "metadata": {},
   "outputs": [],
   "source": [
    "tfidf_model = LogisticRegression(solver = 'lbfgs').fit(X_train_tfidf, y_train)"
   ]
  },
  {
   "cell_type": "markdown",
   "metadata": {},
   "source": [
    "Полученный результат:"
   ]
  },
  {
   "cell_type": "code",
   "execution_count": 123,
   "metadata": {},
   "outputs": [
    {
     "data": {
      "image/png": "[encoded data removed]",
      "text/plain": [
       "<Figure size 432x288 with 1 Axes>"
      ]
     },
     "metadata": {},
     "output_type": "display_data"
    }
   ],
   "source": [
    "for name, X, y, model in [\n",
    "    ('train', X_train_tfidf, y_train, tfidf_model),\n",
    "    ('test ', X_test_tfidf, y_test, tfidf_model)\n",
    "]:\n",
    "    proba = model.predict_proba(X)[:, 1]\n",
    "    auc = roc_auc_score(y, proba)\n",
    "    plt.plot(*roc_curve(y, proba)[:2], label='%s AUC=%.4f' % (name, auc))\n",
    "\n",
    "plt.plot([0, 1], [0, 1], '--', color='black',)\n",
    "plt.legend(fontsize='large')\n",
    "plt.grid()"
   ]
  },
  {
   "cell_type": "markdown",
   "metadata": {},
   "source": [
    "Итак, в первом случае у нас получилось:\n",
    "<br> test AUC = 0.8352\n",
    "\n",
    "Во втором случае(с использованием TF-IDF):\n",
    "<br> test AUC = 0.8732\n",
    "\n",
    "Как можно заметить, второй результат оказался лучше первого, однако разница между ними не такая уж и большая. В то же время во втором случае (с использованием TF-IDF) результат мы получили довольно быстро. Значит, можно предположить, что использование TF-IDF будет полезным, потому что времени занимает не очень много, а результат при том улучшается (пусть и не очень сильно)."
   ]
  },
  {
   "cell_type": "markdown",
   "metadata": {},
   "source": [
    "В целом, мы уже получили хороший результат, но еще на всякий случай добавим нормализацию. \n",
    "\n",
    "Итак, функция для нормализации (здесь const - небольшая константа, которую будем прибавлять в знаменателе, чтобы он получился ненулевой):"
   ]
  },
  {
   "cell_type": "code",
   "execution_count": 124,
   "metadata": {},
   "outputs": [],
   "source": [
    "const = 1e-7\n",
    "\n",
    "def normalize_text(text):\n",
    "    normed_text = text / (np.linalg.norm(text) + const)\n",
    "    return normed_text"
   ]
  },
  {
   "cell_type": "markdown",
   "metadata": {},
   "source": [
    "Нормализуем данные:"
   ]
  },
  {
   "cell_type": "code",
   "execution_count": 125,
   "metadata": {},
   "outputs": [],
   "source": [
    "X_train_tfidf_normed = np.stack(list(map(normalize_text, X_train_tfidf)))\n",
    "X_test_tfidf_normed = np.stack(list(map(normalize_text, X_test_tfidf)))"
   ]
  },
  {
   "cell_type": "markdown",
   "metadata": {},
   "source": [
    "Строим график:"
   ]
  },
  {
   "cell_type": "code",
   "execution_count": 126,
   "metadata": {},
   "outputs": [
    {
     "data": {
      "image/png": "[encoded data removed]",
      "text/plain": [
       "<Figure size 432x288 with 1 Axes>"
      ]
     },
     "metadata": {},
     "output_type": "display_data"
    }
   ],
   "source": [
    "for name, X, y, model in [\n",
    "    ('train', X_train_tfidf_normed, y_train, tfidf_model),\n",
    "    ('test ', X_test_tfidf_normed, y_test, tfidf_model)\n",
    "]:\n",
    "    proba = model.predict_proba(X)[:, 1]\n",
    "    auc = roc_auc_score(y, proba)\n",
    "    plt.plot(*roc_curve(y, proba)[:2], label='%s AUC=%.4f' % (name, auc))\n",
    "\n",
    "plt.plot([0, 1], [0, 1], '--', color='black',)\n",
    "plt.legend(fontsize='large')\n",
    "plt.grid()"
   ]
  },
  {
   "cell_type": "markdown",
   "metadata": {},
   "source": [
    "Как можно заметить, результат на тестовой стал немного лучше (но все равно не сильно изменился). Таким образом, нормализация позволила немного улучшить результат."
   ]
  },
  {
   "cell_type": "markdown",
   "metadata": {},
   "source": [
    "### Part 2: gradient boosting (4 points)\n",
    "\n",
    "Here we will work with widely known Human Actividy Recognition (HAR) dataset. Data is available at [UCI repository](https://archive.ics.uci.edu/ml/datasets/human+activity+recognition+using+smartphones). Download it and place in `data/` folder in the same directory as this notebook. There are available both raw and preprocessed datasets. This time we will use the preprocessed one.\n",
    "\n",
    "First you are required to choose one of the main gradient boosting frameworks:\n",
    "1. LightGBM by Microsoft. [Link to github](https://github.com/Microsoft/LightGBM). One of the most popular frameworks these days that shows both great quality and performance.\n",
    "2. xgboost by dlmc. [Link to github](https://github.com/dmlc/xgboost). The most famous framework which got very popular on kaggle.\n",
    "3. Catboost by Yandex. [Link to github](https://github.com/catboost/catboost). Novel framework by Yandex company tuned to deal well with categorical features. It's quite new, but if you wish to use it - you are welcome.\n",
    "\n",
    "Some simple preprocessing is done for you. \n",
    "\n",
    "Your __ultimate target is to get familiar with one of the frameworks above__ and achieve at least 85% accuracy on test dataset."
   ]
  },
  {
   "cell_type": "code",
   "execution_count": 26,
   "metadata": {},
   "outputs": [],
   "source": [
    "import matplotlib.pyplot as plt\n",
    "from sklearn.decomposition import PCA"
   ]
  },
  {
   "cell_type": "code",
   "execution_count": 27,
   "metadata": {},
   "outputs": [],
   "source": [
    "X_train = np.genfromtxt('data/train/X_train.txt')\n",
    "y_train = np.genfromtxt('data/train/y_train.txt')\n",
    "\n",
    "X_test = np.genfromtxt('data/test/X_test.txt')\n",
    "y_test = np.genfromtxt('data/test/y_test.txt')\n",
    "\n",
    "with open('data/activity_labels.txt', 'r') as iofile:\n",
    "    activity_labels = iofile.readlines()\n",
    "\n",
    "activity_labels = [x.replace('\\n', '').split(' ') for x in activity_labels]\n",
    "activity_labels = dict([(int(x[0]), x[1]) for x in activity_labels])"
   ]
  },
  {
   "cell_type": "code",
   "execution_count": 28,
   "metadata": {},
   "outputs": [
    {
     "data": {
      "text/plain": [
       "{1: 'WALKING',\n",
       " 2: 'WALKING_UPSTAIRS',\n",
       " 3: 'WALKING_DOWNSTAIRS',\n",
       " 4: 'SITTING',\n",
       " 5: 'STANDING',\n",
       " 6: 'LAYING'}"
      ]
     },
     "execution_count": 28,
     "metadata": {},
     "output_type": "execute_result"
    }
   ],
   "source": [
    "activity_labels"
   ]
  },
  {
   "cell_type": "code",
   "execution_count": 29,
   "metadata": {},
   "outputs": [
    {
     "name": "stdout",
     "output_type": "stream",
     "text": [
      "(7352, 561)\n"
     ]
    }
   ],
   "source": [
    "print(X_train.shape)\n",
    "data_mean = X_train.mean(axis=0)\n",
    "data_std = X_train.std(axis=0)\n",
    "\n",
    "X_train = (X_train - data_mean)/data_std\n",
    "X_test = (X_test - data_mean)/data_std"
   ]
  },
  {
   "cell_type": "markdown",
   "metadata": {},
   "source": [
    "The dataset has some duplicating features. File `unique_columns.txt` stores the indices of the unique ones. "
   ]
  },
  {
   "cell_type": "code",
   "execution_count": 30,
   "metadata": {},
   "outputs": [],
   "source": [
    "unique_columns = np.genfromtxt('unique_columns.txt', delimiter=',').astype(int)\n",
    "X_train_unique = X_train[:, unique_columns]\n",
    "X_test_unique = X_test[:, unique_columns]"
   ]
  },
  {
   "cell_type": "markdown",
   "metadata": {},
   "source": [
    "PCA could be useful in this case. E.g."
   ]
  },
  {
   "cell_type": "code",
   "execution_count": 31,
   "metadata": {},
   "outputs": [],
   "source": [
    "pca = PCA(0.99)"
   ]
  },
  {
   "cell_type": "code",
   "execution_count": 32,
   "metadata": {},
   "outputs": [],
   "source": [
    "X_train_pca = pca.fit_transform(X_train_unique)\n",
    "X_test_pca = pca.transform(X_test_unique)"
   ]
  },
  {
   "cell_type": "code",
   "execution_count": 33,
   "metadata": {},
   "outputs": [
    {
     "data": {
      "text/plain": [
       "(7352, 179)"
      ]
     },
     "execution_count": 33,
     "metadata": {},
     "output_type": "execute_result"
    }
   ],
   "source": [
    "X_train_pca.shape"
   ]
  },
  {
   "cell_type": "code",
   "execution_count": 34,
   "metadata": {},
   "outputs": [
    {
     "data": {
      "text/plain": [
       "(2947, 179)"
      ]
     },
     "execution_count": 34,
     "metadata": {},
     "output_type": "execute_result"
    }
   ],
   "source": [
    "X_test_pca.shape"
   ]
  },
  {
   "cell_type": "code",
   "execution_count": 35,
   "metadata": {},
   "outputs": [
    {
     "data": {
      "text/plain": [
       "Text(0, 0.5, 'Principal component 2')"
      ]
     },
     "execution_count": 35,
     "metadata": {},
     "output_type": "execute_result"
    },
    {
     "data": {
      "image/png": "[encoded data removed]",
      "text/plain": [
       "<Figure size 432x288 with 1 Axes>"
      ]
     },
     "metadata": {},
     "output_type": "display_data"
    }
   ],
   "source": [
    "plt.scatter(X_train_pca[:1000, 0], X_train_pca[:1000, 1], c=y_train[:1000])\n",
    "plt.grid()\n",
    "plt.xlabel('Principal component 1')\n",
    "plt.ylabel('Principal component 2')"
   ]
  },
  {
   "cell_type": "code",
   "execution_count": 36,
   "metadata": {},
   "outputs": [
    {
     "data": {
      "text/plain": [
       "Text(0, 0.5, 'Principal component 5')"
      ]
     },
     "execution_count": 36,
     "metadata": {},
     "output_type": "execute_result"
    },
    {
     "data": {
      "image/png": "[encoded data removed]",
      "text/plain": [
       "<Figure size 432x288 with 1 Axes>"
      ]
     },
     "metadata": {},
     "output_type": "display_data"
    }
   ],
   "source": [
    "plt.scatter(X_train_pca[:1000, 3], X_train_pca[:1000, 4], c=y_train[:1000])\n",
    "plt.grid()\n",
    "plt.xlabel('Principal component 4')\n",
    "plt.ylabel('Principal component 5')"
   ]
  },
  {
   "cell_type": "markdown",
   "metadata": {},
   "source": [
    "Despite optimal parameters (e.g. for xgboost) can be found on the web, we still want you to use grid/random search (or any other approach) to approximate them by yourself."
   ]
  },
  {
   "cell_type": "code",
   "execution_count": null,
   "metadata": {},
   "outputs": [],
   "source": [
    "# Your code here.\n",
    "### Example: https://rpubs.com/burakh/har_xgb"
   ]
  },
  {
   "cell_type": "markdown",
   "metadata": {},
   "source": [
    "Выбран был вариант №2: xgboost"
   ]
  },
  {
   "cell_type": "code",
   "execution_count": 37,
   "metadata": {},
   "outputs": [],
   "source": [
    "import xgboost as xgb\n",
    "from sklearn.metrics import accuracy_score\n",
    "from sklearn.pipeline import Pipeline\n",
    "from sklearn.model_selection import GridSearchCV\n",
    "from sklearn.preprocessing import MinMaxScaler"
   ]
  },
  {
   "cell_type": "markdown",
   "metadata": {},
   "source": [
    "Отдельно выпишем параметры, которые будем рассматривать. Поскольку работает GridSearch очень долго, в большинстве случаев я буду просто каждый раз добавлять по одному параметру для поиска, фиксируя те, что были отобраны ранее. (Но в одном случае все равно для проверки сделяю поиск по двум параметрам). Итак, какие параметры будем рассматривать:"
   ]
  },
  {
   "cell_type": "code",
   "execution_count": 41,
   "metadata": {},
   "outputs": [],
   "source": [
    "n_estimators_param = [100, 200, 300, 400, 500]\n",
    "max_depth_param = np.arange(1, 5)\n",
    "subsample_param = [0.6, 0.8, 1]\n",
    "\n",
    "#params = {'n_estimators': n_estimators_param, 'max_depth': max_depth, 'subsample': subsample_param}\n",
    "params_1 = {'booster__n_estimators': n_estimators_param}\n",
    "params_2 = {'booster__max_depth': max_depth_param}\n",
    "params_12 = {'booster__n_estimators': n_estimators_param, 'booster__max_depth': max_depth_param}"
   ]
  },
  {
   "cell_type": "markdown",
   "metadata": {},
   "source": [
    "Итак, рассмотрим классификатор (плюс, не забываем про pipeline):"
   ]
  },
  {
   "cell_type": "code",
   "execution_count": 42,
   "metadata": {},
   "outputs": [],
   "source": [
    "xgbc = xgb.XGBClassifier(objective = 'multi::softmax', verbosity = 3, njobs = 8)\n",
    "pipe = Pipeline(memory = None, steps = [(\"scaler\", MinMaxScaler()), (\"booster\", xgbc)])"
   ]
  },
  {
   "cell_type": "markdown",
   "metadata": {},
   "source": [
    "1. Для начала рассмотрим \"n_estimators\":"
   ]
  },
  {
   "cell_type": "code",
   "execution_count": 43,
   "metadata": {},
   "outputs": [
    {
     "data": {
      "text/plain": [
       "GridSearchCV(cv=3, error_score='raise-deprecating',\n",
       "       estimator=Pipeline(memory=None,\n",
       "     steps=[('scaler', MinMaxScaler(copy=True, feature_range=(0, 1))), ('booster', XGBClassifier(base_score=0.5, booster='gbtree', colsample_bylevel=1,\n",
       "       colsample_bytree=1, gamma=0, learning_rate=0.1, max_delta_step=0,\n",
       "       max_depth=3, min_child_weight=1, mis...pha=0, reg_lambda=1, scale_pos_weight=1,\n",
       "       seed=None, silent=True, subsample=1, verbosity=3))]),\n",
       "       fit_params=None, iid='warn', n_jobs=None,\n",
       "       param_grid={'booster__n_estimators': [100, 200, 300, 400, 500]},\n",
       "       pre_dispatch='2*n_jobs', refit=True, return_train_score='warn',\n",
       "       scoring='accuracy', verbose=0)"
      ]
     },
     "execution_count": 43,
     "metadata": {},
     "output_type": "execute_result"
    }
   ],
   "source": [
    "gs_1 = GridSearchCV(pipe, params_1, cv=3, scoring='accuracy')\n",
    "gs_1.fit(X_train, y_train)"
   ]
  },
  {
   "cell_type": "markdown",
   "metadata": {},
   "source": [
    "Получаем результат:"
   ]
  },
  {
   "cell_type": "code",
   "execution_count": 44,
   "metadata": {},
   "outputs": [
    {
     "name": "stdout",
     "output_type": "stream",
     "text": [
      "best_params: {'booster__n_estimators': 500}, best_score: 0.9246463547334058\n"
     ]
    }
   ],
   "source": [
    "print(\"best_params: {}, best_score: {}\".format(gs_1.best_params_, gs_1.best_score_))"
   ]
  },
  {
   "cell_type": "markdown",
   "metadata": {},
   "source": [
    "2. Теперь рассмотрим \"max_depth\":"
   ]
  },
  {
   "cell_type": "code",
   "execution_count": 45,
   "metadata": {},
   "outputs": [],
   "source": [
    "params_2 = {'booster__n_estimators': [500], 'booster__max_depth': max_depth_param}"
   ]
  },
  {
   "cell_type": "code",
   "execution_count": 46,
   "metadata": {},
   "outputs": [
    {
     "data": {
      "text/plain": [
       "GridSearchCV(cv=3, error_score='raise-deprecating',\n",
       "       estimator=Pipeline(memory=None,\n",
       "     steps=[('scaler', MinMaxScaler(copy=True, feature_range=(0, 1))), ('booster', XGBClassifier(base_score=0.5, booster='gbtree', colsample_bylevel=1,\n",
       "       colsample_bytree=1, gamma=0, learning_rate=0.1, max_delta_step=0,\n",
       "       max_depth=3, min_child_weight=1, mis...pha=0, reg_lambda=1, scale_pos_weight=1,\n",
       "       seed=None, silent=True, subsample=1, verbosity=3))]),\n",
       "       fit_params=None, iid='warn', n_jobs=None,\n",
       "       param_grid={'booster__n_estimators': [500], 'booster__max_depth': array([1, 2, 3, 4])},\n",
       "       pre_dispatch='2*n_jobs', refit=True, return_train_score='warn',\n",
       "       scoring='accuracy', verbose=0)"
      ]
     },
     "execution_count": 46,
     "metadata": {},
     "output_type": "execute_result"
    }
   ],
   "source": [
    "gs_2 = GridSearchCV(pipe, params_2, cv = 3, scoring = 'accuracy')\n",
    "gs_2.fit(X_train, y_train)"
   ]
  },
  {
   "cell_type": "markdown",
   "metadata": {},
   "source": [
    "Получаем результат:"
   ]
  },
  {
   "cell_type": "code",
   "execution_count": 47,
   "metadata": {},
   "outputs": [
    {
     "name": "stdout",
     "output_type": "stream",
     "text": [
      "best_params: {'booster__max_depth': 2, 'booster__n_estimators': 500}, best_score: 0.9279107725788901\n"
     ]
    }
   ],
   "source": [
    "print(\"best_params: {}, best_score: {}\".format(gs_2.best_params_, gs_2.best_score_))"
   ]
  },
  {
   "cell_type": "markdown",
   "metadata": {},
   "source": [
    "3. Теперь рассмотрим на всякий случай одновременно \"max_depth\" и \"n_estimators\":"
   ]
  },
  {
   "cell_type": "code",
   "execution_count": 65,
   "metadata": {},
   "outputs": [
    {
     "data": {
      "text/plain": [
       "GridSearchCV(cv=3, error_score='raise-deprecating',\n",
       "       estimator=Pipeline(memory=None,\n",
       "     steps=[('scaler', MinMaxScaler(copy=True, feature_range=(0, 1))), ('booster', XGBClassifier(base_score=0.5, booster='gbtree', colsample_bylevel=1,\n",
       "       colsample_bytree=1, gamma=0, learning_rate=0.1, max_delta_step=0,\n",
       "       max_depth=3, min_child_weight=1, mis...pha=0, reg_lambda=1, scale_pos_weight=1,\n",
       "       seed=None, silent=True, subsample=1, verbosity=3))]),\n",
       "       fit_params=None, iid='warn', n_jobs=None,\n",
       "       param_grid={'booster__n_estimators': [100, 200, 300, 400, 500], 'booster__max_depth': array([1, 2, 3, 4])},\n",
       "       pre_dispatch='2*n_jobs', refit=True, return_train_score='warn',\n",
       "       scoring='accuracy', verbose=0)"
      ]
     },
     "execution_count": 65,
     "metadata": {},
     "output_type": "execute_result"
    }
   ],
   "source": [
    "gs_12 = GridSearchCV(pipe, params_12, cv = 3, scoring = 'accuracy')\n",
    "gs_12.fit(X_train, y_train)"
   ]
  },
  {
   "cell_type": "markdown",
   "metadata": {},
   "source": [
    "Получаем результат:"
   ]
  },
  {
   "cell_type": "code",
   "execution_count": 66,
   "metadata": {},
   "outputs": [
    {
     "name": "stdout",
     "output_type": "stream",
     "text": [
      "best_params: {'booster__max_depth': 2, 'booster__n_estimators': 400}, best_score: 0.9281828073993471\n"
     ]
    }
   ],
   "source": [
    "print(\"best_params: {}, best_score: {}\".format(gs_12.best_params_, gs_12.best_score_))"
   ]
  },
  {
   "cell_type": "markdown",
   "metadata": {},
   "source": [
    "Как мы видим, результат получился чуть лучше, чем когда мы рассматривали каждый из этих двух параметров отдельно, но все же разница между результатами очень маленькая (порядка 0.0003), поэтому для дальнейшей работы возьмем любой из получившихся результатов (\"max_depth\" в обоих случаях вышел одинаковый, отличается только \"n_estimators\").\n",
    "\n",
    "Итак, положим все же $n$_$estimators = 500$, $max$ _$depth = 2$, как было получено при поочередном подробе параметров."
   ]
  },
  {
   "cell_type": "markdown",
   "metadata": {},
   "source": [
    "4. Теперь рассмотрим \"learning_rate\":"
   ]
  },
  {
   "cell_type": "code",
   "execution_count": 50,
   "metadata": {},
   "outputs": [],
   "source": [
    "params_3 = {'booster__n_estimators': [500], 'booster__max_depth': [2], 'booster__learning_rate': np.linspace(0.1, 1, 10)}"
   ]
  },
  {
   "cell_type": "code",
   "execution_count": 51,
   "metadata": {},
   "outputs": [
    {
     "data": {
      "text/plain": [
       "GridSearchCV(cv=3, error_score='raise-deprecating',\n",
       "       estimator=Pipeline(memory=None,\n",
       "     steps=[('scaler', MinMaxScaler(copy=True, feature_range=(0, 1))), ('booster', XGBClassifier(base_score=0.5, booster='gbtree', colsample_bylevel=1,\n",
       "       colsample_bytree=1, gamma=0, learning_rate=0.1, max_delta_step=0,\n",
       "       max_depth=3, min_child_weight=1, mis...pha=0, reg_lambda=1, scale_pos_weight=1,\n",
       "       seed=None, silent=True, subsample=1, verbosity=3))]),\n",
       "       fit_params=None, iid='warn', n_jobs=None,\n",
       "       param_grid={'booster__n_estimators': [500], 'booster__max_depth': [2], 'booster__learning_rate': array([0.1, 0.2, 0.3, 0.4, 0.5, 0.6, 0.7, 0.8, 0.9, 1. ])},\n",
       "       pre_dispatch='2*n_jobs', refit=True, return_train_score='warn',\n",
       "       scoring='accuracy', verbose=0)"
      ]
     },
     "execution_count": 51,
     "metadata": {},
     "output_type": "execute_result"
    }
   ],
   "source": [
    "gs_3 = GridSearchCV(pipe, params_3, cv = 3, scoring = 'accuracy')\n",
    "gs_3.fit(X_train, y_train)"
   ]
  },
  {
   "cell_type": "markdown",
   "metadata": {},
   "source": [
    "Получаем результат:"
   ]
  },
  {
   "cell_type": "code",
   "execution_count": 55,
   "metadata": {},
   "outputs": [
    {
     "name": "stdout",
     "output_type": "stream",
     "text": [
      "best_params: {'booster__learning_rate': 0.2, 'booster__max_depth': 2, 'booster__n_estimators': 500}\n",
      "best_score: 0.9303590859630033\n"
     ]
    }
   ],
   "source": [
    "print(\"best_params: {}\".format(gs_3.best_params_))\n",
    "print(\"best_score: {}\".format(gs_3.best_score_))"
   ]
  },
  {
   "cell_type": "markdown",
   "metadata": {},
   "source": [
    "Запустим теперь с выбранными параметрами:"
   ]
  },
  {
   "cell_type": "code",
   "execution_count": 56,
   "metadata": {},
   "outputs": [],
   "source": [
    "xgbc_optimal = xgb.XGBClassifier(objective = 'multi::softmax', verbosity = 3, njobs = 8, \n",
    "                                 n_estimators = 500, max_depth = 2, learning_rate = 0.2)"
   ]
  },
  {
   "cell_type": "code",
   "execution_count": 57,
   "metadata": {},
   "outputs": [
    {
     "name": "stdout",
     "output_type": "stream",
     "text": [
      "accuracy:  0.9548693586698337\n"
     ]
    }
   ],
   "source": [
    "xgbc_optimal.fit(X_train, y_train)\n",
    "y_optimal_pred = xgbc_optimal.predict(X_test)\n",
    "\n",
    "print( \"accuracy: \", accuracy_score(y_test, y_optimal_pred))"
   ]
  },
  {
   "cell_type": "markdown",
   "metadata": {},
   "source": [
    "Как можно заметить, результат уже получился довольно хороший (больше 0.85, как и требовалось). В прицнипе, можно попробовать варьировать и остальные параметры. Например, можно посмотреть на параметр \"gamma\":"
   ]
  },
  {
   "cell_type": "code",
   "execution_count": 59,
   "metadata": {},
   "outputs": [],
   "source": [
    "params_gamma = np.linspace(0, 1, 5)\n",
    "\n",
    "params_4 = {'booster__n_estimators': [500], 'booster__max_depth': [2], \n",
    "            'booster__learning_rate': [0.2], 'booster__gamma': params_gamma}"
   ]
  },
  {
   "cell_type": "code",
   "execution_count": 60,
   "metadata": {},
   "outputs": [
    {
     "data": {
      "text/plain": [
       "GridSearchCV(cv=3, error_score='raise-deprecating',\n",
       "       estimator=Pipeline(memory=None,\n",
       "     steps=[('scaler', MinMaxScaler(copy=True, feature_range=(0, 1))), ('booster', XGBClassifier(base_score=0.5, booster='gbtree', colsample_bylevel=1,\n",
       "       colsample_bytree=1, gamma=0, learning_rate=0.1, max_delta_step=0,\n",
       "       max_depth=3, min_child_weight=1, mis...pha=0, reg_lambda=1, scale_pos_weight=1,\n",
       "       seed=None, silent=True, subsample=1, verbosity=3))]),\n",
       "       fit_params=None, iid='warn', n_jobs=None,\n",
       "       param_grid={'booster__n_estimators': [500], 'booster__max_depth': [2], 'booster__learning_rate': [0.2], 'booster__gamma': array([0.  , 0.25, 0.5 , 0.75, 1.  ])},\n",
       "       pre_dispatch='2*n_jobs', refit=True, return_train_score='warn',\n",
       "       scoring='accuracy', verbose=0)"
      ]
     },
     "execution_count": 60,
     "metadata": {},
     "output_type": "execute_result"
    }
   ],
   "source": [
    "gs_4 = GridSearchCV(pipe, params_4, cv = 3, scoring = 'accuracy')\n",
    "gs_4.fit(X_train, y_train)"
   ]
  },
  {
   "cell_type": "markdown",
   "metadata": {},
   "source": [
    "Получаем результат:"
   ]
  },
  {
   "cell_type": "code",
   "execution_count": 61,
   "metadata": {},
   "outputs": [
    {
     "name": "stdout",
     "output_type": "stream",
     "text": [
      "best_params: {'booster__gamma': 0.0, 'booster__learning_rate': 0.2, 'booster__max_depth': 2, 'booster__n_estimators': 500}\n",
      "best_score: 0.9303590859630033\n"
     ]
    }
   ],
   "source": [
    "print(\"best_params: {}\".format(gs_4.best_params_))\n",
    "print(\"best_score: {}\".format(gs_4.best_score_))"
   ]
  },
  {
   "cell_type": "markdown",
   "metadata": {},
   "source": [
    "Результат получился такой же (потому что у нас вышло, что gamma=0, а оно таким и было), зато мы убедились, что лучше (по крайней мере, при выбранных значениях параметра \"gamma\") получиться не могло.\n",
    "\n",
    "Итак, в результате имеем:"
   ]
  },
  {
   "cell_type": "code",
   "execution_count": 63,
   "metadata": {},
   "outputs": [],
   "source": [
    "xgbc_optimal_2 = xgb.XGBClassifier(objective = 'multi::softmax', njobs = 8, \n",
    "                                 n_estimators = 500, max_depth = 2, learning_rate = 0.2, gamma = 0)"
   ]
  },
  {
   "cell_type": "code",
   "execution_count": 64,
   "metadata": {},
   "outputs": [
    {
     "name": "stdout",
     "output_type": "stream",
     "text": [
      "accuracy:  0.9548693586698337\n"
     ]
    }
   ],
   "source": [
    "xgbc_optimal_2.fit(X_train, y_train)\n",
    "y_optimal_pred_2 = xgbc_optimal_2.predict(X_test)\n",
    "\n",
    "print( \"accuracy: \", accuracy_score(y_test, y_optimal_pred_2))"
   ]
  },
  {
   "cell_type": "markdown",
   "metadata": {},
   "source": [
    "В заключение, стоит сказать, что точность (accuracy) получилась довольно хорошая (0.955), но работает это все очень долго. В целом, если время работы алгоритма не играет много роли, то с помощью данного классификатора можно получить неплохой результат."
   ]
  },
  {
   "cell_type": "code",
   "execution_count": null,
   "metadata": {},
   "outputs": [],
   "source": []
  },
  {
   "cell_type": "code",
   "execution_count": null,
   "metadata": {},
   "outputs": [],
   "source": []
  }
 ],
 "metadata": {
  "kernelspec": {
   "display_name": "Python 3",
   "language": "python",
   "name": "python3"
  },
  "language_info": {
   "codemirror_mode": {
    "name": "ipython",
    "version": 3
   },
   "file_extension": ".py",
   "mimetype": "text/x-python",
   "name": "python",
   "nbconvert_exporter": "python",
   "pygments_lexer": "ipython3",
   "version": "3.7.1"
  }
 },
 "nbformat": 4,
 "nbformat_minor": 2
}
