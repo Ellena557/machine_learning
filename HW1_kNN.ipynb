{
 "cells": [
  {
   "cell_type": "markdown",
   "metadata": {
    "colab_type": "text",
    "id": "v5Fj-ahf25os"
   },
   "source": [
    "# Домашнее задание №1: Классификация. \n",
    "# Логистическая регрессия и kNN."
   ]
  },
  {
   "cell_type": "markdown",
   "metadata": {},
   "source": [
    "*While the machines are being fixed.*"
   ]
  },
  {
   "cell_type": "markdown",
   "metadata": {},
   "source": [
    "Формат сдачи будет объявлен позднее. Либо это будет проверяющая система, либо telegram-бот. "
   ]
  },
  {
   "cell_type": "markdown",
   "metadata": {
    "colab_type": "text",
    "id": "I6Hq7E5o25ou"
   },
   "source": [
    "<span style=\"color: red; font-size: 14pt\">Дедлайн: 3 марта 23:59</span>"
   ]
  },
  {
   "cell_type": "markdown",
   "metadata": {
    "colab_type": "text",
    "id": "qZX1Urv425ov"
   },
   "source": [
    "### Часть 1. Небольшой numpy-разогрев. (10%)"
   ]
  },
  {
   "cell_type": "code",
   "execution_count": 1,
   "metadata": {
    "colab": {
     "autoexec": {
      "startup": false,
      "wait_interval": 0
     }
    },
    "colab_type": "code",
    "id": "ABwrGwvF25ow"
   },
   "outputs": [],
   "source": [
    "import numpy as np\n",
    "import pandas as pd"
   ]
  },
  {
   "cell_type": "code",
   "execution_count": 2,
   "metadata": {
    "colab": {
     "autoexec": {
      "startup": false,
      "wait_interval": 0
     }
    },
    "colab_type": "code",
    "id": "GYgIRlqf25o0"
   },
   "outputs": [
    {
     "name": "stdout",
     "output_type": "stream",
     "text": [
      "[[15  6 30 16  8 65 63 68 52 77]\n",
      " [86 39 70 75 51 33 87 37 93 71]\n",
      " [93 93 59 87 87 46 76 33 29 94]\n",
      " [60 96 81  1 15 16 74 72 31 11]\n",
      " [27 53 55 93 36 87 60 96 24 65]\n",
      " [20 94 99  3 47 90 41 58 23 53]\n",
      " [ 8  9 65 54 82  0 19 89  7 21]\n",
      " [47 12 14 69 62 38 79  1 10 99]\n",
      " [59 25 50 47 66  0 11 78 81 74]\n",
      " [60 84 60 88 53 35  3 65 55  8]]\n"
     ]
    }
   ],
   "source": [
    "# Создайте случайную матрицу A размерами 10 на 10 из целых чисел от 0 до 100\n",
    "# hint: np.random.randint\n",
    "\n",
    "A = np.random.randint(low = 0, high = 100, size = (10, 10))\n",
    "print(A)"
   ]
  },
  {
   "cell_type": "code",
   "execution_count": 3,
   "metadata": {
    "colab": {
     "autoexec": {
      "startup": false,
      "wait_interval": 0
     }
    },
    "colab_type": "code",
    "id": "7aB62Lzk25o2"
   },
   "outputs": [
    {
     "name": "stdout",
     "output_type": "stream",
     "text": [
      "[47.5 51.1 58.3 53.3 50.7 41.  51.3 59.7 40.5 57.3]\n"
     ]
    }
   ],
   "source": [
    "# Посчитайте средние значения в матрице по столбцам\n",
    "\n",
    "means = np.mean(A, axis = 0)\n",
    "print(means)"
   ]
  },
  {
   "cell_type": "code",
   "execution_count": 4,
   "metadata": {
    "colab": {
     "autoexec": {
      "startup": false,
      "wait_interval": 0
     }
    },
    "colab_type": "code",
    "id": "MTLnNqV425o5"
   },
   "outputs": [
    {
     "name": "stdout",
     "output_type": "stream",
     "text": [
      "[[15 86 93 60 27 20  8 47 59 60]\n",
      " [ 6 39 93 96 53 94  9 12 25 84]\n",
      " [30 70 59 81 55 99 65 14 50 60]\n",
      " [16 75 87  1 93  3 54 69 47 88]\n",
      " [ 8 51 87 15 36 47 82 62 66 53]\n",
      " [65 33 46 16 87 90  0 38  0 35]\n",
      " [63 87 76 74 60 41 19 79 11  3]\n",
      " [68 37 33 72 96 58 89  1 78 65]\n",
      " [52 93 29 31 24 23  7 10 81 55]\n",
      " [77 71 94 11 65 53 21 99 74  8]]\n"
     ]
    }
   ],
   "source": [
    "# Транспонируйте матрицу A\n",
    "\n",
    "A_T = A.T\n",
    "print(A_T)"
   ]
  },
  {
   "cell_type": "code",
   "execution_count": 5,
   "metadata": {
    "colab": {
     "autoexec": {
      "startup": false,
      "wait_interval": 0
     }
    },
    "colab_type": "code",
    "id": "WgDUhrYV25o8"
   },
   "outputs": [
    {
     "name": "stdout",
     "output_type": "stream",
     "text": [
      "[[ 225  516 2790  960  216 1300  504 3196 3068 4620]\n",
      " [ 516 1521 6510 7200 2703 3102  783  444 2325 5964]\n",
      " [2790 6510 3481 7047 4785 4554 4940  462 1450 5640]\n",
      " [ 960 7200 7047    1 1395   48 3996 4968 1457  968]\n",
      " [ 216 2703 4785 1395 1296 4089 4920 5952 1584 3445]\n",
      " [1300 3102 4554   48 4089 8100    0 2204    0 1855]\n",
      " [ 504  783 4940 3996 4920    0  361 7031   77   63]\n",
      " [3196  444  462 4968 5952 2204 7031    1  780 6435]\n",
      " [3068 2325 1450 1457 1584    0   77  780 6561 4070]\n",
      " [4620 5964 5640  968 3445 1855   63 6435 4070   64]]\n"
     ]
    }
   ],
   "source": [
    "# Перемножьте поэлементно матрицу A и транспонированную матрицу A \n",
    "\n",
    "prod = A * A_T\n",
    "print(prod)"
   ]
  },
  {
   "cell_type": "code",
   "execution_count": 6,
   "metadata": {
    "colab": {
     "autoexec": {
      "startup": false,
      "wait_interval": 0
     }
    },
    "colab_type": "code",
    "id": "xwgLyFDD25o9"
   },
   "outputs": [
    {
     "name": "stdout",
     "output_type": "stream",
     "text": [
      "[[17395 20335 23078 21569 23514 14634 15448 22658 13959 21061]\n",
      " [29873 31068 36670 33178 32608 22595 29906 41460 26854 34800]\n",
      " [32879 36660 41659 37928 32393 29473 36630 44165 29420 36121]\n",
      " [23939 17261 23817 28040 26891 16676 27386 22536 19510 31948]\n",
      " [28678 34110 36235 29606 30385 24407 32284 32343 20575 32046]\n",
      " [28431 30324 32566 32588 30819 25252 29467 26999 21589 34107]\n",
      " [18401 19152 17680 23482 18591 15922 22675 18473  9525 23185]\n",
      " [16822 24823 27426 22336 19706 17516 17440 31473 15285 15880]\n",
      " [25260 23265 24204 29649 24184 19008 24614 28492 21372 30364]\n",
      " [27919 26617 29063 25538 23187 21351 32596 27764 23043 33124]]\n"
     ]
    }
   ],
   "source": [
    "# Посчитайте dot product (результат матричного умножения) матрицы A на саму себя и запишите в матрицу B\n",
    "# https://en.wikipedia.org/wiki/Dot_product\n",
    "\n",
    "B = np.dot(A, A)\n",
    "print(B)"
   ]
  },
  {
   "cell_type": "markdown",
   "metadata": {
    "colab_type": "text",
    "id": "9S8tqIMG25pb"
   },
   "source": [
    "### Часть 2. Логистическая регрессия и kNN."
   ]
  },
  {
   "cell_type": "markdown",
   "metadata": {
    "colab_type": "text",
    "id": "T2docs4225pb"
   },
   "source": [
    "Будем работать с подвыборкой из [данных о типе лесного покрытия из репозитория UCI](http://archive.ics.uci.edu/ml/datasets/Covertype). Доступно 7 различных классов. Каждый объект описывается 54 признаками, 40 из которых являются бинарными. Описание данных доступно по ссылке, а так же в файле `covtype.info.txt`."
   ]
  },
  {
   "cell_type": "code",
   "execution_count": 7,
   "metadata": {
    "colab": {
     "autoexec": {
      "startup": false,
      "wait_interval": 0
     }
    },
    "colab_type": "code",
    "id": "rvPrVRvK25pc"
   },
   "outputs": [],
   "source": [
    "all_data = pd.read_csv('forest_dataset.csv')"
   ]
  },
  {
   "cell_type": "code",
   "execution_count": 8,
   "metadata": {},
   "outputs": [
    {
     "name": "stdout",
     "output_type": "stream",
     "text": [
      "(10000, 55)\n",
      "Index(['0', '1', '2', '3', '4', '5', '6', '7', '8', '9', '10', '11', '12',\n",
      "       '13', '14', '15', '16', '17', '18', '19', '20', '21', '22', '23', '24',\n",
      "       '25', '26', '27', '28', '29', '30', '31', '32', '33', '34', '35', '36',\n",
      "       '37', '38', '39', '40', '41', '42', '43', '44', '45', '46', '47', '48',\n",
      "       '49', '50', '51', '52', '53', '54'],\n",
      "      dtype='object')\n"
     ]
    }
   ],
   "source": [
    "# Информация о данных\n",
    "print(all_data.shape)\n",
    "print(all_data.columns)"
   ]
  },
  {
   "cell_type": "markdown",
   "metadata": {
    "colab_type": "text",
    "id": "DrX0W5si25pe"
   },
   "source": [
    "Выделите 20% данных в `delayed_data` в качестве выборки, на которой будет производиться финальное сравнение моделей, в `all_data` поместите оставшиеся 80%."
   ]
  },
  {
   "cell_type": "code",
   "execution_count": 9,
   "metadata": {
    "colab": {
     "autoexec": {
      "startup": false,
      "wait_interval": 0
     }
    },
    "colab_type": "code",
    "id": "Deu3A-yc25pf"
   },
   "outputs": [],
   "source": [
    "n_samples = all_data.shape[0]\n",
    "n_features = 54 \n",
    "n_classes = 7\n",
    "\n",
    "# Доля данных для выборки\n",
    "test_koef = 0.2\n",
    "\n",
    "# Число элементов выборки\n",
    "all_size = round(test_koef * n_samples)\n",
    "\n",
    "delayed_data = all_data[:all_size]\n",
    "all_data = all_data[all_size:]"
   ]
  },
  {
   "cell_type": "code",
   "execution_count": 10,
   "metadata": {},
   "outputs": [
    {
     "name": "stdout",
     "output_type": "stream",
     "text": [
      "(8000, 55)\n"
     ]
    }
   ],
   "source": [
    "# Информация о данных\n",
    "print(all_data.shape)"
   ]
  },
  {
   "cell_type": "markdown",
   "metadata": {
    "colab_type": "text",
    "id": "itCWxHEY25pg"
   },
   "source": [
    "Выделим значения метки класса в переменную `labels`, признаковые описания в переменную `feature_matrix`. Так как данные числовые и не имеют пропусков, переведем их в `numpy`-формат с помощью метода `.values`."
   ]
  },
  {
   "cell_type": "code",
   "execution_count": 11,
   "metadata": {
    "colab": {
     "autoexec": {
      "startup": false,
      "wait_interval": 0
     }
    },
    "colab_type": "code",
    "id": "f_YIUOuV25ph"
   },
   "outputs": [],
   "source": [
    "labels = all_data[all_data.columns[-1]].values\n",
    "feature_matrix = all_data[all_data.columns[:-1]].values"
   ]
  },
  {
   "cell_type": "markdown",
   "metadata": {
    "colab_type": "text",
    "id": "dKCiU0wz25pj"
   },
   "source": [
    "#### 2.1 Двуклассовая классификация (10%)"
   ]
  },
  {
   "cell_type": "markdown",
   "metadata": {
    "colab_type": "text",
    "id": "LYDttiOJ25pj"
   },
   "source": [
    "Для начала будем работать только с двумя типами лесного покрытия. Обучите линейный классификатор для разделения двух классов. Данные разделите на train и test с помощью `train_test_split`."
   ]
  },
  {
   "cell_type": "code",
   "execution_count": 12,
   "metadata": {
    "colab": {
     "autoexec": {
      "startup": false,
      "wait_interval": 0
     }
    },
    "colab_type": "code",
    "id": "Q030jzyY25pl"
   },
   "outputs": [],
   "source": [
    "from sklearn.model_selection import train_test_split\n",
    "\n",
    "from sklearn.linear_model import LogisticRegression\n",
    "from sklearn.metrics import f1_score, accuracy_score"
   ]
  },
  {
   "cell_type": "code",
   "execution_count": 13,
   "metadata": {
    "colab": {
     "autoexec": {
      "startup": false,
      "wait_interval": 0
     }
    },
    "colab_type": "code",
    "id": "taWX6ME925pn"
   },
   "outputs": [],
   "source": [
    "two_class_labels_indices = (labels == 1) + (labels == 2)\n",
    "\n",
    "two_class_feature_matrix = feature_matrix[two_class_labels_indices]\n",
    "two_class_labels = labels[two_class_labels_indices]"
   ]
  },
  {
   "cell_type": "code",
   "execution_count": 14,
   "metadata": {
    "colab": {
     "autoexec": {
      "startup": false,
      "wait_interval": 0
     }
    },
    "colab_type": "code",
    "id": "zoQPXD_k25po"
   },
   "outputs": [],
   "source": [
    "train_feature_matrix, test_feature_matrix, train_labels, test_labels = train_test_split(\n",
    "    two_class_feature_matrix,\n",
    "    two_class_labels, \n",
    "    test_size = 0.3,\n",
    "    random_state = 42,\n",
    ")"
   ]
  },
  {
   "cell_type": "markdown",
   "metadata": {
    "colab_type": "text",
    "id": "A8iDa9Je25pq"
   },
   "source": [
    "Обучите логистическую регрессию. Оцените качество классификации на отложенной выборке с помощью `accuracy` и `f1_score` ([Wikipedia](https://en.wikipedia.org/wiki/F1_score))."
   ]
  },
  {
   "cell_type": "code",
   "execution_count": 15,
   "metadata": {
    "colab": {
     "autoexec": {
      "startup": false,
      "wait_interval": 0
     }
    },
    "colab_type": "code",
    "id": "9CKtjwv_25pr"
   },
   "outputs": [],
   "source": [
    "lr_clf = LogisticRegression(solver='liblinear')"
   ]
  },
  {
   "cell_type": "code",
   "execution_count": 16,
   "metadata": {},
   "outputs": [
    {
     "name": "stdout",
     "output_type": "stream",
     "text": [
      "(4788, 54)\n",
      "(4788,)\n"
     ]
    }
   ],
   "source": [
    "# На всякий случай проверяем размеры\n",
    "print(np.array(train_feature_matrix).shape)\n",
    "print(np.array(train_labels).shape)"
   ]
  },
  {
   "cell_type": "code",
   "execution_count": 17,
   "metadata": {},
   "outputs": [
    {
     "data": {
      "text/plain": [
       "LogisticRegression(C=1.0, class_weight=None, dual=False, fit_intercept=True,\n",
       "          intercept_scaling=1, max_iter=100, multi_class='warn',\n",
       "          n_jobs=None, penalty='l2', random_state=None, solver='liblinear',\n",
       "          tol=0.0001, verbose=0, warm_start=False)"
      ]
     },
     "execution_count": 17,
     "metadata": {},
     "output_type": "execute_result"
    }
   ],
   "source": [
    "lr_clf.fit(train_feature_matrix, train_labels)"
   ]
  },
  {
   "cell_type": "code",
   "execution_count": 18,
   "metadata": {},
   "outputs": [],
   "source": [
    "score = lr_clf.score(test_feature_matrix, test_labels) \n",
    "sc_predicted = lr_clf.predict(test_feature_matrix)"
   ]
  },
  {
   "cell_type": "markdown",
   "metadata": {},
   "source": [
    "Оценка качества с помощью f1_score:"
   ]
  },
  {
   "cell_type": "code",
   "execution_count": 19,
   "metadata": {},
   "outputs": [
    {
     "name": "stdout",
     "output_type": "stream",
     "text": [
      "f1_score:  0.716743119266055\n"
     ]
    }
   ],
   "source": [
    "print(\"f1_score: \", f1_score(test_labels, sc_predicted))"
   ]
  },
  {
   "cell_type": "markdown",
   "metadata": {},
   "source": [
    "Оценка качества с помощью accuracy:"
   ]
  },
  {
   "cell_type": "code",
   "execution_count": 20,
   "metadata": {},
   "outputs": [
    {
     "name": "stdout",
     "output_type": "stream",
     "text": [
      "accuracy:  0.7593765221626887\n"
     ]
    }
   ],
   "source": [
    "print( \"accuracy: \", accuracy_score(test_labels, sc_predicted))"
   ]
  },
  {
   "cell_type": "markdown",
   "metadata": {},
   "source": [
    "Как можно заметить, у accuracy значение выше."
   ]
  },
  {
   "cell_type": "markdown",
   "metadata": {
    "colab_type": "text",
    "id": "9MKHZ2JC25pv"
   },
   "source": [
    "#### 2.2 Многоклассовая классификация: логистическая регрессия (40%)"
   ]
  },
  {
   "cell_type": "markdown",
   "metadata": {
    "colab_type": "text",
    "id": "P1mWe4kJ25pv"
   },
   "source": [
    "**Комментарий:**\n",
    "\n",
    "*Логистическая регрессия позволяет решать и задачу многоклассовой классификации. Класс ``LogisticRegression`` позвляет это делать двумя способами:* \n",
    "- *1. Стандартный One vs Rest (т.е. каждый класс отделяется от всех других). Параметр `multi_class='ovr'`.*\n",
    "- *2. Используюя кросс-энтропию (оценивается сразу вектор вероятностей принадлежности классам). Параметр `multi_class='multinomial'`.*\n",
    "\n",
    "*По умолчанию будем использовать второй способ.*\n"
   ]
  },
  {
   "cell_type": "markdown",
   "metadata": {
    "colab_type": "text",
    "id": "BGn7U05I25pw"
   },
   "source": [
    "Теперь будем работать со всеми 7 типами покрытия (данные уже находятся в переменных `feature_matrix` и `labels`, если Вы их не переопределили). Разделите выборку на обучающую и тестовую с помощью метода `train_test_split`, используйте значения параметров `test_size=0.2`, `random_state=42`. Обучите логистическую регрессию  на данном датасете."
   ]
  },
  {
   "cell_type": "code",
   "execution_count": 21,
   "metadata": {},
   "outputs": [],
   "source": [
    "from sklearn.preprocessing import MinMaxScaler\n",
    "from sklearn.preprocessing import Normalizer\n",
    "\n",
    "#from sklearn.model_selection import GridSearchCV\n",
    "\n",
    "from sklearn.pipeline import Pipeline"
   ]
  },
  {
   "cell_type": "code",
   "execution_count": 22,
   "metadata": {
    "colab": {
     "autoexec": {
      "startup": false,
      "wait_interval": 0
     }
    },
    "colab_type": "code",
    "id": "xqzEKcdD25px"
   },
   "outputs": [],
   "source": [
    "lr_clf = LogisticRegression(solver = 'saga', multi_class='multinomial', max_iter = 8000)\n",
    "\n",
    "train_feature_matrix, test_feature_matrix, train_labels, test_labels = train_test_split(\n",
    "    feature_matrix,\n",
    "    labels, \n",
    "    test_size = 0.2,\n",
    "    random_state = 42,\n",
    ")"
   ]
  },
  {
   "cell_type": "code",
   "execution_count": 23,
   "metadata": {},
   "outputs": [],
   "source": [
    "pipe = Pipeline(memory = None, steps = [(\"scaler\", MinMaxScaler()), (\"lr\", lr_clf)])"
   ]
  },
  {
   "cell_type": "markdown",
   "metadata": {
    "colab_type": "text",
    "id": "5QqTntPq25p0"
   },
   "source": [
    "С помощью 5-кратной кросс-валидации (`GridSearchCV`) подберите оптимальное значение параметров `С` и `penalty`. Для параметра `C` используйте набор значений `np.linspace(0.01, 1, 10)`, а для `penalty` - `['l1', 'l2']`. Критерий качества `scoring = 'accuracy'`."
   ]
  },
  {
   "cell_type": "code",
   "execution_count": 24,
   "metadata": {},
   "outputs": [
    {
     "data": {
      "text/plain": [
       "dict_keys(['memory', 'steps', 'scaler', 'lr', 'scaler__copy', 'scaler__feature_range', 'lr__C', 'lr__class_weight', 'lr__dual', 'lr__fit_intercept', 'lr__intercept_scaling', 'lr__max_iter', 'lr__multi_class', 'lr__n_jobs', 'lr__penalty', 'lr__random_state', 'lr__solver', 'lr__tol', 'lr__verbose', 'lr__warm_start'])"
      ]
     },
     "execution_count": 24,
     "metadata": {},
     "output_type": "execute_result"
    }
   ],
   "source": [
    "#смотрим, как обращаться к параметрам\n",
    "pipe.get_params().keys()"
   ]
  },
  {
   "cell_type": "code",
   "execution_count": 25,
   "metadata": {},
   "outputs": [
    {
     "name": "stderr",
     "output_type": "stream",
     "text": [
      "C:\\Users\\Elena\\Anaconda3\\lib\\site-packages\\sklearn\\utils\\validation.py:595: DataConversionWarning: Data with input dtype int64 was converted to float64 by MinMaxScaler.\n",
      "  warnings.warn(msg, DataConversionWarning)\n"
     ]
    },
    {
     "data": {
      "text/plain": [
       "GridSearchCV(cv=5, error_score='raise-deprecating',\n",
       "       estimator=Pipeline(memory=None,\n",
       "     steps=[('scaler', MinMaxScaler(copy=True, feature_range=(0, 1))), ('lr', LogisticRegression(C=1.0, class_weight=None, dual=False, fit_intercept=True,\n",
       "          intercept_scaling=1, max_iter=8000, multi_class='multinomial',\n",
       "          n_jobs=None, penalty='l2', random_state=None, solver='saga',\n",
       "          tol=0.0001, verbose=0, warm_start=False))]),\n",
       "       fit_params=None, iid='warn', n_jobs=-1,\n",
       "       param_grid={'lr__C': array([0.01, 0.12, 0.23, 0.34, 0.45, 0.56, 0.67, 0.78, 0.89, 1.  ]), 'lr__penalty': ['l1', 'l2']},\n",
       "       pre_dispatch='2*n_jobs', refit=True, return_train_score='warn',\n",
       "       scoring='accuracy', verbose=0)"
      ]
     },
     "execution_count": 25,
     "metadata": {},
     "output_type": "execute_result"
    }
   ],
   "source": [
    "from sklearn.model_selection import GridSearchCV\n",
    "\n",
    "c_param = np.linspace(0.01, 1, 10)\n",
    "paramers = {'lr__C':c_param, 'lr__penalty':['l1', 'l2']}\n",
    "\n",
    "clf_grid = GridSearchCV(pipe, param_grid=paramers, cv=5, scoring = 'accuracy', n_jobs = -1)\n",
    "\n",
    "clf_grid.fit(train_feature_matrix, train_labels)"
   ]
  },
  {
   "cell_type": "code",
   "execution_count": 26,
   "metadata": {},
   "outputs": [
    {
     "name": "stdout",
     "output_type": "stream",
     "text": [
      "best score :  0.716875\n"
     ]
    }
   ],
   "source": [
    "best_score = clf_grid.best_score_\n",
    "print('best score : ', best_score)"
   ]
  },
  {
   "cell_type": "code",
   "execution_count": 27,
   "metadata": {},
   "outputs": [
    {
     "name": "stdout",
     "output_type": "stream",
     "text": [
      "{'lr__C': 0.89, 'lr__penalty': 'l1'}\n"
     ]
    }
   ],
   "source": [
    "best_params = clf_grid.best_params_\n",
    "print(best_params)"
   ]
  },
  {
   "cell_type": "markdown",
   "metadata": {
    "colab_type": "text",
    "id": "rzsRzpiv25p2"
   },
   "source": [
    "Постройте графики средних значений критерия качества `accuracy` для типов регуляризации `l1` и `l2` в зависимости от коэффициента регуляризации `C`."
   ]
  },
  {
   "cell_type": "code",
   "execution_count": 28,
   "metadata": {},
   "outputs": [],
   "source": [
    "import matplotlib.pyplot as plt"
   ]
  },
  {
   "cell_type": "code",
   "execution_count": 29,
   "metadata": {
    "colab": {
     "autoexec": {
      "startup": false,
      "wait_interval": 0
     }
    },
    "colab_type": "code",
    "id": "nYOrtHpy25p3"
   },
   "outputs": [],
   "source": [
    "# значения С\n",
    "c_values = np.linspace(0.01, 1, 10)\n",
    "c_num = c_values.size\n",
    "\n",
    "#массив, в котором будут содержаться значения accuracy для различных С\n",
    "acc_values_l1 = np.zeros(c_num)\n",
    "\n",
    "# Количество посчитанных позиций в acc_values_l1\n",
    "l1_counter = 0\n",
    "\n",
    "acc_values_l2 = np.zeros(c_num)\n",
    "l2_counter = 0\n",
    "\n",
    "clf_results = clf_grid.cv_results_['mean_test_score']\n",
    "res_num = len(clf_results)\n",
    "\n",
    "# при заполнении надо учесть четность\n",
    "for c_position in range(res_num):\n",
    "    if c_position % 2 == 0:\n",
    "        acc_values_l1[l1_counter] = clf_results[c_position]\n",
    "        l1_counter = l1_counter + 1\n",
    "    if c_position % 2 > 0:\n",
    "        acc_values_l2[l2_counter] = clf_results[c_position]\n",
    "        l2_counter = l2_counter + 1    "
   ]
  },
  {
   "cell_type": "code",
   "execution_count": 30,
   "metadata": {},
   "outputs": [
    {
     "data": {
      "image/png": "[encoded data removed]",
      "text/plain": [
       "<Figure size 1008x432 with 1 Axes>"
      ]
     },
     "metadata": {
      "needs_background": "light"
     },
     "output_type": "display_data"
    }
   ],
   "source": [
    "plt.figure(figsize=(14, 6))\n",
    "\n",
    "plt.plot(c_values, acc_values_l1, label=\"l1\", color = 'indigo')\n",
    "plt.plot(c_values, acc_values_l2, label=\"l2\", color = 'crimson')\n",
    "\n",
    "plt.legend(fontsize = 14)\n",
    "plt.xlabel('C', fontsize=16)\n",
    "plt.ylabel('accuracy', fontsize=16)   \n",
    "plt.title(\"График зависимости критерия качества accuracy от коэффициента регуляризации C\", fontsize=16)\n",
    "plt.show()\n"
   ]
  },
  {
   "cell_type": "markdown",
   "metadata": {
    "colab_type": "text",
    "id": "IQraNf0M25p5"
   },
   "source": [
    "Проанализируйте полученные графики. Чему равны найденные оптимальные значения параметров `C` и `penalty`?"
   ]
  },
  {
   "cell_type": "markdown",
   "metadata": {
    "colab": {
     "autoexec": {
      "startup": false,
      "wait_interval": 0
     }
    },
    "colab_type": "code",
    "id": "BkT1RWJj25p7"
   },
   "source": [
    "По графикам хорошо видно, что $l1$ дает лучший результат, чем $l2$ в большинстве значений `C`. Если при маленьких значениях коэффициента регуляризации `C` график, демонстрирующий accuracy для $l2$ был выше, чем график для $l1$, то затем ситуация измеилась. Поэтому мы можем сказать, что оптимальное значение параметра `penalty` - это $l1$. Если говорить про параметр `C`, то можно заметить, что наибольшая accuracy (где-то между 0.71-0.72) достигается при значении параметра `C` около 0.9.\n",
    "\n",
    "Однако стоит провести более точные вычисления:"
   ]
  },
  {
   "cell_type": "code",
   "execution_count": 31,
   "metadata": {},
   "outputs": [
    {
     "name": "stdout",
     "output_type": "stream",
     "text": [
      "{'lr__C': 0.89, 'lr__penalty': 'l1'}\n"
     ]
    }
   ],
   "source": [
    "best_params = clf_grid.best_params_\n",
    "print(best_params)"
   ]
  },
  {
   "cell_type": "markdown",
   "metadata": {
    "colab_type": "text",
    "id": "uIX7uVYk25p9"
   },
   "source": [
    "Используя найденные оптимальные значения `C` и `penalty`, обучите логистическую регрессию на обучающей выборке (train) и вычислите вероятности принадлежности к классам для тестовой (test)  выборки (`best_lr_clf.predict_proba`)."
   ]
  },
  {
   "cell_type": "code",
   "execution_count": 32,
   "metadata": {
    "colab": {
     "autoexec": {
      "startup": false,
      "wait_interval": 0
     }
    },
    "colab_type": "code",
    "id": "1rDNazlC25p9"
   },
   "outputs": [
    {
     "name": "stdout",
     "output_type": "stream",
     "text": [
      "[[1.17430632e-01 8.38798908e-01 7.26127746e-03 ... 2.59072455e-02\n",
      "  8.75352265e-03 1.82516909e-03]\n",
      " [7.25710961e-01 2.18792883e-01 6.78534584e-05 ... 3.25054807e-03\n",
      "  6.90275483e-05 5.21087040e-02]\n",
      " [7.00404377e-02 7.58165925e-01 5.70686958e-02 ... 5.91439907e-02\n",
      "  5.42448715e-02 8.12077854e-04]\n",
      " ...\n",
      " [2.10945661e-01 7.18303595e-01 4.84498385e-03 ... 4.60394092e-02\n",
      "  1.51922089e-02 4.66573554e-03]\n",
      " [2.63222346e-02 7.74535058e-01 9.55490284e-02 ... 6.40529091e-02\n",
      "  3.84224995e-02 1.33762716e-04]\n",
      " [2.64801294e-01 7.21999184e-01 1.14623708e-03 ... 6.07133870e-03\n",
      "  2.97049872e-03 2.91371932e-03]]\n"
     ]
    }
   ],
   "source": [
    "# Оптимальные параметры\n",
    "optim_c = best_params['lr__C']\n",
    "optim_penalty = best_params['lr__penalty']\n",
    "\n",
    "# Подставляем их\n",
    "best_lr_clf = LogisticRegression(solver = 'saga', multi_class='multinomial', \n",
    "                                 max_iter = 10000, penalty = optim_penalty, C = optim_c, n_jobs = -1)\n",
    "\n",
    "best_lr_clf.fit(train_feature_matrix, train_labels)\n",
    "\n",
    "p = best_lr_clf.predict_proba(test_feature_matrix)\n",
    "print(p)"
   ]
  },
  {
   "cell_type": "markdown",
   "metadata": {
    "colab_type": "text",
    "id": "Ck7T2dGQ25p_"
   },
   "source": [
    "Для полученной матрицы вычислите усредненные по всем объектам из тестовой выборки значения вероятностей принадлежности к классам. Сравните ее оценкой вероятности принадлежности к классу на основе частот меток классов в обучающей выборке."
   ]
  },
  {
   "cell_type": "code",
   "execution_count": 33,
   "metadata": {
    "colab": {
     "autoexec": {
      "startup": false,
      "wait_interval": 0
     }
    },
    "colab_type": "code",
    "id": "JOf0BNix25qA"
   },
   "outputs": [
    {
     "name": "stdout",
     "output_type": "stream",
     "text": [
      "Первый способ:\n",
      "[0.36216078 0.48628237 0.0637101  0.00561082 0.0184527  0.03119624\n",
      " 0.032587  ]\n",
      "Второй способ:\n",
      "[0.356875 0.49     0.059375 0.006875 0.0175   0.035    0.034375]\n"
     ]
    }
   ],
   "source": [
    "# усредненные по всем объектам из тестовой выборки значения вероятностей принадлежности к классам\n",
    "probs_1 = p.mean(axis = 0)\n",
    "\n",
    "num_labels = test_labels.shape[0]\n",
    "res_2 = np.unique(test_labels, return_index = False, return_counts = True)\n",
    "\n",
    "# То, сколько раз встречалось каждое уникальное значение\n",
    "counts_2 = res_2[1]\n",
    "\n",
    "# вероятности принадлежности к классу на основе частот меток классов в обучающей выборке\n",
    "probs_2 = counts_2 / num_labels\n",
    "\n",
    "print(\"Первый способ:\")\n",
    "print(probs_1)\n",
    "print(\"Второй способ:\")\n",
    "print(probs_2)"
   ]
  },
  {
   "cell_type": "markdown",
   "metadata": {},
   "source": [
    "Как мы видим, полученные обоими способами вероятности близки (совпадают в пределах погрешностей). \n",
    "\n",
    "Визульно заметно, что первые четыре значения очень близки, оставшиеся же просто довольно маленькие, но и про них можно заметить, что они с определенной точностью близки."
   ]
  },
  {
   "cell_type": "markdown",
   "metadata": {
    "colab_type": "text",
    "id": "VYogShkD25qD"
   },
   "source": [
    "#### 2.3 Многоклассовая классификация: kNN (30%)."
   ]
  },
  {
   "cell_type": "markdown",
   "metadata": {
    "colab_type": "text",
    "id": "BHVNCaJ325qD"
   },
   "source": [
    "Вспомним первое занятие. Обучите на том же датасете `KNeighborsClassifier` из `sklearn`."
   ]
  },
  {
   "cell_type": "code",
   "execution_count": 34,
   "metadata": {
    "colab": {
     "autoexec": {
      "startup": false,
      "wait_interval": 0
     }
    },
    "colab_type": "code",
    "id": "o4CMnnOY25qD"
   },
   "outputs": [],
   "source": [
    "from sklearn.neighbors import KNeighborsClassifier"
   ]
  },
  {
   "cell_type": "code",
   "execution_count": 35,
   "metadata": {},
   "outputs": [],
   "source": [
    "train_feature_matrix, test_feature_matrix, train_labels, test_labels = train_test_split(\n",
    "    feature_matrix,\n",
    "    labels, \n",
    "    test_size = 0.2,\n",
    "    random_state = 42,\n",
    ")"
   ]
  },
  {
   "cell_type": "code",
   "execution_count": 36,
   "metadata": {},
   "outputs": [
    {
     "data": {
      "text/plain": [
       "KNeighborsClassifier(algorithm='auto', leaf_size=30, metric='minkowski',\n",
       "           metric_params=None, n_jobs=None, n_neighbors=5, p=2,\n",
       "           weights='uniform')"
      ]
     },
     "execution_count": 36,
     "metadata": {},
     "output_type": "execute_result"
    }
   ],
   "source": [
    "clf = KNeighborsClassifier(weights='uniform')\n",
    "clf.fit(train_feature_matrix, train_labels)"
   ]
  },
  {
   "cell_type": "code",
   "execution_count": 37,
   "metadata": {},
   "outputs": [],
   "source": [
    "predictions = clf.predict(test_feature_matrix)"
   ]
  },
  {
   "cell_type": "code",
   "execution_count": 38,
   "metadata": {},
   "outputs": [
    {
     "name": "stdout",
     "output_type": "stream",
     "text": [
      "accuracy :  0.705625\n"
     ]
    }
   ],
   "source": [
    "acc = accuracy_score(test_labels, predictions)\n",
    "print(\"accuracy : \", acc)"
   ]
  },
  {
   "cell_type": "markdown",
   "metadata": {
    "colab_type": "text",
    "id": "Yl_foM3u25qF"
   },
   "source": [
    "Попробуйте использовать различные стратегии вычисления весов: `[‘uniform’, ‘distance’]`. Выберите одно из них самостоятельно. Чем обоснован Ваш выбор?"
   ]
  },
  {
   "cell_type": "markdown",
   "metadata": {},
   "source": [
    "'uniform' мы уже попробовали выше, теперь перейдем к 'distance':"
   ]
  },
  {
   "cell_type": "code",
   "execution_count": 39,
   "metadata": {},
   "outputs": [
    {
     "data": {
      "text/plain": [
       "KNeighborsClassifier(algorithm='auto', leaf_size=30, metric='minkowski',\n",
       "           metric_params=None, n_jobs=None, n_neighbors=5, p=2,\n",
       "           weights='distance')"
      ]
     },
     "execution_count": 39,
     "metadata": {},
     "output_type": "execute_result"
    }
   ],
   "source": [
    "clf2 = KNeighborsClassifier(weights = 'distance')\n",
    "clf2.fit(train_feature_matrix, train_labels)"
   ]
  },
  {
   "cell_type": "code",
   "execution_count": 40,
   "metadata": {},
   "outputs": [
    {
     "name": "stdout",
     "output_type": "stream",
     "text": [
      "accuracy :  0.73625\n"
     ]
    }
   ],
   "source": [
    "predictions = clf2.predict(test_feature_matrix)\n",
    "acc = accuracy_score(test_labels, predictions)\n",
    "print(\"accuracy : \", acc)\n",
    "#print(predictions)"
   ]
  },
  {
   "cell_type": "markdown",
   "metadata": {},
   "source": [
    "Как можно заметить, в нашем случае получилось, что стратегия для вычисления весов 'distance' лучше, чем 'uniform', поскольку значение accuracy выше."
   ]
  },
  {
   "cell_type": "markdown",
   "metadata": {
    "colab_type": "text",
    "id": "8WzoRJZd25qF"
   },
   "source": [
    "Переберите по сетке от `1` до `10` параметр числа соседей. Покажите на графике, как менялись значения критерия качества `accuracy` при изменении числа соседей."
   ]
  },
  {
   "cell_type": "code",
   "execution_count": 41,
   "metadata": {},
   "outputs": [
    {
     "data": {
      "text/plain": [
       "GridSearchCV(cv=2, error_score='raise-deprecating',\n",
       "       estimator=KNeighborsClassifier(algorithm='auto', leaf_size=30, metric='minkowski',\n",
       "           metric_params=None, n_jobs=None, n_neighbors=5, p=2,\n",
       "           weights='distance'),\n",
       "       fit_params=None, iid='warn', n_jobs=-1,\n",
       "       param_grid={'n_neighbors': array([ 1,  2,  3,  4,  5,  6,  7,  8,  9, 10])},\n",
       "       pre_dispatch='2*n_jobs', refit=True, return_train_score='warn',\n",
       "       scoring='accuracy', verbose=0)"
      ]
     },
     "execution_count": 41,
     "metadata": {},
     "output_type": "execute_result"
    }
   ],
   "source": [
    "# число соседей\n",
    "num_neighbors = np.arange(1, 11, 1)\n",
    "paras = {'n_neighbors': num_neighbors}\n",
    "\n",
    "# uniform\n",
    "knn_grid_u = GridSearchCV(clf, param_grid = paras, cv = 2, scoring = 'accuracy', n_jobs = -1)\n",
    "\n",
    "# distance\n",
    "knn_grid_d = GridSearchCV(clf2, param_grid = paras, cv = 2, scoring = 'accuracy', n_jobs = -1)\n",
    "\n",
    "#fit our models\n",
    "knn_grid_u.fit(train_feature_matrix, train_labels)\n",
    "knn_grid_d.fit(train_feature_matrix, train_labels)"
   ]
  },
  {
   "cell_type": "code",
   "execution_count": 42,
   "metadata": {},
   "outputs": [
    {
     "data": {
      "image/png": "[encoded data removed]",
      "text/plain": [
       "<Figure size 1008x432 with 1 Axes>"
      ]
     },
     "metadata": {
      "needs_background": "light"
     },
     "output_type": "display_data"
    }
   ],
   "source": [
    "num_neighbors = np.arange(1, 11, 1)\n",
    "\n",
    "graph_u = knn_grid_u.cv_results_['mean_test_score']\n",
    "graph_d = knn_grid_d.cv_results_['mean_test_score']\n",
    "\n",
    "plt.figure(figsize=(14, 6))\n",
    "plt.plot(num_neighbors, graph_u, label = \"uniform\", color = 'indigo')\n",
    "plt.scatter(num_neighbors, graph_u, s = 40,  color = 'indigo', alpha = 1)\n",
    "plt.plot(num_neighbors, graph_d, label = \"distance\", color = 'crimson')\n",
    "plt.scatter(num_neighbors, graph_d, s = 40,  color = 'crimson', alpha = 1)\n",
    "plt.legend(fontsize = 14)\n",
    "plt.xlabel('number of neighbors', fontsize = 16)\n",
    "plt.ylabel('accuracy', fontsize = 16)   \n",
    "plt.title(\"График зависимости критерия качества accuracy при изменении числа соседей\", fontsize = 16)\n",
    "plt.show()"
   ]
  },
  {
   "cell_type": "markdown",
   "metadata": {},
   "source": [
    "Как мы видим, при числе соседей, равном единице, значение критерия качества accuracy для uniform самое большое. Таким образом, можем предположить, что оптимальное число соседей равно единице. Однако для distance самое большое значение при числе соседей, равно четырем, если судить по графику. Причем это значение больше, чем у uniform при числе соседей, равном одному. Таким образом, можно предположить, что оптимальное число соседей равно четырем и использовать лучше distance, а не uniform. Если в первой точке значения а графиках совпали, то дальше график для uniform был значительно ниже графика для distance."
   ]
  },
  {
   "cell_type": "markdown",
   "metadata": {},
   "source": [
    "На всякий случай проверим то, что мы увидели на графике, потому что, например, при числе соседей, равном шести, значение accuracy тоже поднимается и достигает практически того же уровня, что и при четырех соседях."
   ]
  },
  {
   "cell_type": "code",
   "execution_count": 43,
   "metadata": {},
   "outputs": [
    {
     "name": "stdout",
     "output_type": "stream",
     "text": [
      "{'n_neighbors': 4}\n"
     ]
    }
   ],
   "source": [
    "best_neighbors = knn_grid_d.best_params_\n",
    "print(best_neighbors)"
   ]
  },
  {
   "cell_type": "markdown",
   "metadata": {},
   "source": [
    "Как мы видим, мы действительно не ошиблись и оптимальное число соседей равно четырем. Это значение и будем использоваь для последующих вычислений."
   ]
  },
  {
   "cell_type": "markdown",
   "metadata": {
    "colab_type": "text",
    "id": "aBmiDbvV25qI"
   },
   "source": [
    "Используя найденное оптимальное число соседей, вычислите вероятности принадлежности к классам для тестовой выборки (`.predict_proba`)."
   ]
  },
  {
   "cell_type": "code",
   "execution_count": 44,
   "metadata": {
    "colab": {
     "autoexec": {
      "startup": false,
      "wait_interval": 0
     }
    },
    "colab_type": "code",
    "id": "ig_vS8O925qI"
   },
   "outputs": [
    {
     "name": "stdout",
     "output_type": "stream",
     "text": [
      "probs : \n",
      "[[0.30257349 0.69742651 0.         ... 0.         0.         0.        ]\n",
      " [0.50308746 0.24860975 0.         ... 0.         0.         0.24830279]\n",
      " [0.11346117 0.88653883 0.         ... 0.         0.         0.        ]\n",
      " ...\n",
      " [0.         1.         0.         ... 0.         0.         0.        ]\n",
      " [0.27270273 0.72729727 0.         ... 0.         0.         0.        ]\n",
      " [1.         0.         0.         ... 0.         0.         0.        ]]\n"
     ]
    }
   ],
   "source": [
    "# distance and 4 neighbors\n",
    "opt_estimator = KNeighborsClassifier(n_neighbors = 4, weights = 'distance', n_jobs = -1)\n",
    "\n",
    "#fit our model\n",
    "opt_estimator.fit(train_feature_matrix, train_labels)\n",
    "\n",
    "opt_estimator.predict_proba\n",
    "p = opt_estimator.predict_proba(test_feature_matrix)\n",
    "print('probs : ')\n",
    "print(p)"
   ]
  },
  {
   "cell_type": "code",
   "execution_count": 45,
   "metadata": {},
   "outputs": [
    {
     "name": "stdout",
     "output_type": "stream",
     "text": [
      "Вероятности: \n",
      "[0.35253771 0.50296628 0.05960119 0.00566491 0.02178912 0.02800062\n",
      " 0.02944016]\n"
     ]
    }
   ],
   "source": [
    "# усредненные по всем объектам из тестовой выборки значения вероятностей принадлежности к классам\n",
    "probs_1 = p.mean(axis = 0)\n",
    "\n",
    "print(\"Вероятности: \")\n",
    "print(probs_1)"
   ]
  },
  {
   "cell_type": "markdown",
   "metadata": {
    "colab_type": "text",
    "id": "p41xvYTU25qK"
   },
   "source": [
    "#### 2.4 Сравнение результатов логистической регрессии и kNN (10%).\n",
    "\n",
    "В реальной жизни новые данные становятся доступны с течением времени. Сравните качество Вашей лучшей модели логистической регресии и лучшего kNN  на отложенной выборке `delayed_data`. Какая из моделей показала лучший результат?"
   ]
  },
  {
   "cell_type": "code",
   "execution_count": 46,
   "metadata": {},
   "outputs": [],
   "source": [
    "delayed_labels = delayed_data[delayed_data.columns[-1]].values\n",
    "delayed_feature_matrix = delayed_data[delayed_data.columns[:-1]].values"
   ]
  },
  {
   "cell_type": "markdown",
   "metadata": {
    "colab": {
     "autoexec": {
      "startup": false,
      "wait_interval": 0
     }
    },
    "colab_type": "code",
    "id": "xJFKTJx425qL"
   },
   "source": [
    "*Логистическая регрессия*\n",
    "\n",
    "Вспомним, какие у нас были лучшие параметры:\n",
    "* С: 0.89\n",
    "* penalty: 'l1'\n",
    "\n",
    "Используем эти параметры:"
   ]
  },
  {
   "cell_type": "code",
   "execution_count": 48,
   "metadata": {},
   "outputs": [
    {
     "name": "stdout",
     "output_type": "stream",
     "text": [
      "LogReg accuracy : \n",
      "0.698\n"
     ]
    }
   ],
   "source": [
    "#model with certain parameters\n",
    "del_lr_clf = LogisticRegression(solver = 'saga', multi_class='multinomial', max_iter = 8000, penalty = 'l1', C = 0.89)\n",
    "\n",
    "#fir our model\n",
    "del_lr_clf.fit(train_feature_matrix, train_labels)\n",
    "\n",
    "prediction_lr = del_lr_clf.predict(delayed_feature_matrix)\n",
    "acc_lr = accuracy_score(delayed_labels, prediction_lr)\n",
    "\n",
    "print('LogReg accuracy : ')\n",
    "print(acc_lr)"
   ]
  },
  {
   "cell_type": "markdown",
   "metadata": {},
   "source": [
    "*kNN*\n",
    "\n",
    "В данном случае мы рассматривали параметр числа соседей. И в итоге получили, что оптимальное число соседей равно четырем. Кроме того, мы выяснили, что лучше использовать стратегию вычисления весов distance, а не uniform.\n",
    "\n",
    "Используем эти значения:"
   ]
  },
  {
   "cell_type": "code",
   "execution_count": 49,
   "metadata": {},
   "outputs": [
    {
     "name": "stdout",
     "output_type": "stream",
     "text": [
      "kNN accuracy : \n",
      "0.7645\n"
     ]
    }
   ],
   "source": [
    "#model with certain parameters\n",
    "del_knn = KNeighborsClassifier(n_neighbors = 4, weights = 'distance', n_jobs = -1)\n",
    "\n",
    "#fit our model\n",
    "del_knn.fit(train_feature_matrix, train_labels)\n",
    "\n",
    "prediction_knn = del_knn.predict(delayed_feature_matrix)\n",
    "acc_knn = accuracy_score(delayed_labels, prediction_knn)\n",
    "\n",
    "print('kNN accuracy : ')\n",
    "print(acc_knn)"
   ]
  },
  {
   "cell_type": "markdown",
   "metadata": {},
   "source": [
    "В плане критерия качества accuracy лучший результат показала модель kNN. Значение accuracy значительно больше, чем у логистической регрессии: 0.7654 в сравнении с 0.698.\n",
    "\n",
    "Также стоит добавит, что kNN работает намного быстрее, что тоже является его преимуществом."
   ]
  },
  {
   "cell_type": "code",
   "execution_count": null,
   "metadata": {},
   "outputs": [],
   "source": []
  }
 ],
 "metadata": {
  "colab": {
   "collapsed_sections": [
    "dKCiU0wz25pj",
    "9MKHZ2JC25pv",
    "VYogShkD25qD",
    "p41xvYTU25qK"
   ],
   "default_view": {},
   "name": "HW1_Logistic_regression_and_SVM.ipynb",
   "provenance": [],
   "version": "0.3.2",
   "views": {}
  },
  "kernelspec": {
   "display_name": "Python 3",
   "language": "python",
   "name": "python3"
  },
  "language_info": {
   "codemirror_mode": {
    "name": "ipython",
    "version": 3
   },
   "file_extension": ".py",
   "mimetype": "text/x-python",
   "name": "python",
   "nbconvert_exporter": "python",
   "pygments_lexer": "ipython3",
   "version": "3.7.1"
  }
 },
 "nbformat": 4,
 "nbformat_minor": 1
}
